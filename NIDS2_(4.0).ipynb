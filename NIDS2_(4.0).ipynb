{
  "cells": [
    {
      "cell_type": "markdown",
      "metadata": {
        "id": "view-in-github",
        "colab_type": "text"
      },
      "source": [
        "<a href=\"https://colab.research.google.com/github/BachirZahaf27/NIDS1/blob/main/NIDS2_(4.0).ipynb\" target=\"_parent\"><img src=\"https://colab.research.google.com/assets/colab-badge.svg\" alt=\"Open In Colab\"/></a>"
      ]
    },
    {
      "cell_type": "code",
      "execution_count": 1,
      "metadata": {
        "id": "0Dz0LYB-NaXB"
      },
      "outputs": [],
      "source": [
        "import numpy as np\n",
        "import pandas as pd\n",
        "import keras\n",
        "from keras.models import Sequential\n",
        "from keras.layers import Dense, Conv1D, MaxPooling1D, Flatten, Dropout\n",
        "from sklearn.preprocessing import LabelEncoder, OneHotEncoder, StandardScaler\n",
        "from sklearn.model_selection import train_test_split\n",
        "import seaborn as sns\n",
        "import matplotlib.pyplot as plt"
      ]
    },
    {
      "cell_type": "markdown",
      "source": [
        "# **Databse**"
      ],
      "metadata": {
        "id": "aLKYiuVqOyhh"
      }
    },
    {
      "cell_type": "code",
      "execution_count": 2,
      "metadata": {
        "id": "xt3ywQC3NaXJ"
      },
      "outputs": [],
      "source": [
        "dataset = pd.read_csv('kddcup.data_10_percent_corrected.csv')"
      ]
    },
    {
      "cell_type": "code",
      "execution_count": 3,
      "metadata": {
        "id": "n7jIzaVDNaXM",
        "colab": {
          "base_uri": "https://localhost:8080/",
          "height": 488
        },
        "outputId": "44c7d759-b119-494a-dc87-12b888666d31"
      },
      "outputs": [
        {
          "output_type": "execute_result",
          "data": {
            "text/plain": [
              "       duration protocol_type service flag  src_bytes  dst_bytes  land  \\\n",
              "0             0           tcp    http   SF        181       5450     0   \n",
              "1             0           tcp    http   SF        239        486     0   \n",
              "2             0           tcp    http   SF        235       1337     0   \n",
              "3             0           tcp    http   SF        219       1337     0   \n",
              "4             0           tcp    http   SF        217       2032     0   \n",
              "...         ...           ...     ...  ...        ...        ...   ...   \n",
              "64288         0           tcp    http   SF        310       1881     0   \n",
              "64289         0           tcp    http   SF        282       2286     0   \n",
              "64290         0           tcp    http   SF        203       1200     0   \n",
              "64291         0           tcp    http   SF        291       1200     0   \n",
              "64292         0           tcp    http   SF        219       1234     0   \n",
              "\n",
              "       wrong_fragment  urgent  hot  ...  dst_host_srv_count  \\\n",
              "0                   0       0    0  ...                   9   \n",
              "1                   0       0    0  ...                  19   \n",
              "2                   0       0    0  ...                  29   \n",
              "3                   0       0    0  ...                  39   \n",
              "4                   0       0    0  ...                  49   \n",
              "...               ...     ...  ...  ...                 ...   \n",
              "64288               0       0    0  ...                 255   \n",
              "64289               0       0    0  ...                 255   \n",
              "64290               0       0    0  ...                 255   \n",
              "64291               0       0    0  ...                 255   \n",
              "64292               0       0    0  ...                 255   \n",
              "\n",
              "       dst_host_same_srv_rate  dst_host_diff_srv_rate  \\\n",
              "0                         1.0                     0.0   \n",
              "1                         1.0                     0.0   \n",
              "2                         1.0                     0.0   \n",
              "3                         1.0                     0.0   \n",
              "4                         1.0                     0.0   \n",
              "...                       ...                     ...   \n",
              "64288                     1.0                     0.0   \n",
              "64289                     1.0                     0.0   \n",
              "64290                     1.0                     0.0   \n",
              "64291                     1.0                     0.0   \n",
              "64292                     1.0                     0.0   \n",
              "\n",
              "       dst_host_same_src_port_rate  dst_host_srv_diff_host_rate  \\\n",
              "0                             0.11                         0.00   \n",
              "1                             0.05                         0.00   \n",
              "2                             0.03                         0.00   \n",
              "3                             0.03                         0.00   \n",
              "4                             0.02                         0.00   \n",
              "...                            ...                          ...   \n",
              "64288                         0.01                         0.05   \n",
              "64289                         0.17                         0.05   \n",
              "64290                         0.06                         0.05   \n",
              "64291                         0.04                         0.05   \n",
              "64292                         0.17                         0.05   \n",
              "\n",
              "       dst_host_serror_rate  dst_host_srv_serror_rate  dst_host_rerror_rate  \\\n",
              "0                      0.00                      0.00                   0.0   \n",
              "1                      0.00                      0.00                   0.0   \n",
              "2                      0.00                      0.00                   0.0   \n",
              "3                      0.00                      0.00                   0.0   \n",
              "4                      0.00                      0.00                   0.0   \n",
              "...                     ...                       ...                   ...   \n",
              "64288                  0.00                      0.01                   0.0   \n",
              "64289                  0.00                      0.01                   0.0   \n",
              "64290                  0.06                      0.01                   0.0   \n",
              "64291                  0.04                      0.01                   0.0   \n",
              "64292                  0.00                      0.01                   0.0   \n",
              "\n",
              "       dst_host_srv_rerror_rate    label  \n",
              "0                           0.0  normal.  \n",
              "1                           0.0  normal.  \n",
              "2                           0.0  normal.  \n",
              "3                           0.0  normal.  \n",
              "4                           0.0  normal.  \n",
              "...                         ...      ...  \n",
              "64288                       0.0  normal.  \n",
              "64289                       0.0  normal.  \n",
              "64290                       0.0  normal.  \n",
              "64291                       0.0  normal.  \n",
              "64292                       0.0  normal.  \n",
              "\n",
              "[64293 rows x 42 columns]"
            ],
            "text/html": [
              "\n",
              "  <div id=\"df-30750e18-2de1-4bdc-a377-92c51670b1a1\">\n",
              "    <div class=\"colab-df-container\">\n",
              "      <div>\n",
              "<style scoped>\n",
              "    .dataframe tbody tr th:only-of-type {\n",
              "        vertical-align: middle;\n",
              "    }\n",
              "\n",
              "    .dataframe tbody tr th {\n",
              "        vertical-align: top;\n",
              "    }\n",
              "\n",
              "    .dataframe thead th {\n",
              "        text-align: right;\n",
              "    }\n",
              "</style>\n",
              "<table border=\"1\" class=\"dataframe\">\n",
              "  <thead>\n",
              "    <tr style=\"text-align: right;\">\n",
              "      <th></th>\n",
              "      <th>duration</th>\n",
              "      <th>protocol_type</th>\n",
              "      <th>service</th>\n",
              "      <th>flag</th>\n",
              "      <th>src_bytes</th>\n",
              "      <th>dst_bytes</th>\n",
              "      <th>land</th>\n",
              "      <th>wrong_fragment</th>\n",
              "      <th>urgent</th>\n",
              "      <th>hot</th>\n",
              "      <th>...</th>\n",
              "      <th>dst_host_srv_count</th>\n",
              "      <th>dst_host_same_srv_rate</th>\n",
              "      <th>dst_host_diff_srv_rate</th>\n",
              "      <th>dst_host_same_src_port_rate</th>\n",
              "      <th>dst_host_srv_diff_host_rate</th>\n",
              "      <th>dst_host_serror_rate</th>\n",
              "      <th>dst_host_srv_serror_rate</th>\n",
              "      <th>dst_host_rerror_rate</th>\n",
              "      <th>dst_host_srv_rerror_rate</th>\n",
              "      <th>label</th>\n",
              "    </tr>\n",
              "  </thead>\n",
              "  <tbody>\n",
              "    <tr>\n",
              "      <th>0</th>\n",
              "      <td>0</td>\n",
              "      <td>tcp</td>\n",
              "      <td>http</td>\n",
              "      <td>SF</td>\n",
              "      <td>181</td>\n",
              "      <td>5450</td>\n",
              "      <td>0</td>\n",
              "      <td>0</td>\n",
              "      <td>0</td>\n",
              "      <td>0</td>\n",
              "      <td>...</td>\n",
              "      <td>9</td>\n",
              "      <td>1.0</td>\n",
              "      <td>0.0</td>\n",
              "      <td>0.11</td>\n",
              "      <td>0.00</td>\n",
              "      <td>0.00</td>\n",
              "      <td>0.00</td>\n",
              "      <td>0.0</td>\n",
              "      <td>0.0</td>\n",
              "      <td>normal.</td>\n",
              "    </tr>\n",
              "    <tr>\n",
              "      <th>1</th>\n",
              "      <td>0</td>\n",
              "      <td>tcp</td>\n",
              "      <td>http</td>\n",
              "      <td>SF</td>\n",
              "      <td>239</td>\n",
              "      <td>486</td>\n",
              "      <td>0</td>\n",
              "      <td>0</td>\n",
              "      <td>0</td>\n",
              "      <td>0</td>\n",
              "      <td>...</td>\n",
              "      <td>19</td>\n",
              "      <td>1.0</td>\n",
              "      <td>0.0</td>\n",
              "      <td>0.05</td>\n",
              "      <td>0.00</td>\n",
              "      <td>0.00</td>\n",
              "      <td>0.00</td>\n",
              "      <td>0.0</td>\n",
              "      <td>0.0</td>\n",
              "      <td>normal.</td>\n",
              "    </tr>\n",
              "    <tr>\n",
              "      <th>2</th>\n",
              "      <td>0</td>\n",
              "      <td>tcp</td>\n",
              "      <td>http</td>\n",
              "      <td>SF</td>\n",
              "      <td>235</td>\n",
              "      <td>1337</td>\n",
              "      <td>0</td>\n",
              "      <td>0</td>\n",
              "      <td>0</td>\n",
              "      <td>0</td>\n",
              "      <td>...</td>\n",
              "      <td>29</td>\n",
              "      <td>1.0</td>\n",
              "      <td>0.0</td>\n",
              "      <td>0.03</td>\n",
              "      <td>0.00</td>\n",
              "      <td>0.00</td>\n",
              "      <td>0.00</td>\n",
              "      <td>0.0</td>\n",
              "      <td>0.0</td>\n",
              "      <td>normal.</td>\n",
              "    </tr>\n",
              "    <tr>\n",
              "      <th>3</th>\n",
              "      <td>0</td>\n",
              "      <td>tcp</td>\n",
              "      <td>http</td>\n",
              "      <td>SF</td>\n",
              "      <td>219</td>\n",
              "      <td>1337</td>\n",
              "      <td>0</td>\n",
              "      <td>0</td>\n",
              "      <td>0</td>\n",
              "      <td>0</td>\n",
              "      <td>...</td>\n",
              "      <td>39</td>\n",
              "      <td>1.0</td>\n",
              "      <td>0.0</td>\n",
              "      <td>0.03</td>\n",
              "      <td>0.00</td>\n",
              "      <td>0.00</td>\n",
              "      <td>0.00</td>\n",
              "      <td>0.0</td>\n",
              "      <td>0.0</td>\n",
              "      <td>normal.</td>\n",
              "    </tr>\n",
              "    <tr>\n",
              "      <th>4</th>\n",
              "      <td>0</td>\n",
              "      <td>tcp</td>\n",
              "      <td>http</td>\n",
              "      <td>SF</td>\n",
              "      <td>217</td>\n",
              "      <td>2032</td>\n",
              "      <td>0</td>\n",
              "      <td>0</td>\n",
              "      <td>0</td>\n",
              "      <td>0</td>\n",
              "      <td>...</td>\n",
              "      <td>49</td>\n",
              "      <td>1.0</td>\n",
              "      <td>0.0</td>\n",
              "      <td>0.02</td>\n",
              "      <td>0.00</td>\n",
              "      <td>0.00</td>\n",
              "      <td>0.00</td>\n",
              "      <td>0.0</td>\n",
              "      <td>0.0</td>\n",
              "      <td>normal.</td>\n",
              "    </tr>\n",
              "    <tr>\n",
              "      <th>...</th>\n",
              "      <td>...</td>\n",
              "      <td>...</td>\n",
              "      <td>...</td>\n",
              "      <td>...</td>\n",
              "      <td>...</td>\n",
              "      <td>...</td>\n",
              "      <td>...</td>\n",
              "      <td>...</td>\n",
              "      <td>...</td>\n",
              "      <td>...</td>\n",
              "      <td>...</td>\n",
              "      <td>...</td>\n",
              "      <td>...</td>\n",
              "      <td>...</td>\n",
              "      <td>...</td>\n",
              "      <td>...</td>\n",
              "      <td>...</td>\n",
              "      <td>...</td>\n",
              "      <td>...</td>\n",
              "      <td>...</td>\n",
              "      <td>...</td>\n",
              "    </tr>\n",
              "    <tr>\n",
              "      <th>64288</th>\n",
              "      <td>0</td>\n",
              "      <td>tcp</td>\n",
              "      <td>http</td>\n",
              "      <td>SF</td>\n",
              "      <td>310</td>\n",
              "      <td>1881</td>\n",
              "      <td>0</td>\n",
              "      <td>0</td>\n",
              "      <td>0</td>\n",
              "      <td>0</td>\n",
              "      <td>...</td>\n",
              "      <td>255</td>\n",
              "      <td>1.0</td>\n",
              "      <td>0.0</td>\n",
              "      <td>0.01</td>\n",
              "      <td>0.05</td>\n",
              "      <td>0.00</td>\n",
              "      <td>0.01</td>\n",
              "      <td>0.0</td>\n",
              "      <td>0.0</td>\n",
              "      <td>normal.</td>\n",
              "    </tr>\n",
              "    <tr>\n",
              "      <th>64289</th>\n",
              "      <td>0</td>\n",
              "      <td>tcp</td>\n",
              "      <td>http</td>\n",
              "      <td>SF</td>\n",
              "      <td>282</td>\n",
              "      <td>2286</td>\n",
              "      <td>0</td>\n",
              "      <td>0</td>\n",
              "      <td>0</td>\n",
              "      <td>0</td>\n",
              "      <td>...</td>\n",
              "      <td>255</td>\n",
              "      <td>1.0</td>\n",
              "      <td>0.0</td>\n",
              "      <td>0.17</td>\n",
              "      <td>0.05</td>\n",
              "      <td>0.00</td>\n",
              "      <td>0.01</td>\n",
              "      <td>0.0</td>\n",
              "      <td>0.0</td>\n",
              "      <td>normal.</td>\n",
              "    </tr>\n",
              "    <tr>\n",
              "      <th>64290</th>\n",
              "      <td>0</td>\n",
              "      <td>tcp</td>\n",
              "      <td>http</td>\n",
              "      <td>SF</td>\n",
              "      <td>203</td>\n",
              "      <td>1200</td>\n",
              "      <td>0</td>\n",
              "      <td>0</td>\n",
              "      <td>0</td>\n",
              "      <td>0</td>\n",
              "      <td>...</td>\n",
              "      <td>255</td>\n",
              "      <td>1.0</td>\n",
              "      <td>0.0</td>\n",
              "      <td>0.06</td>\n",
              "      <td>0.05</td>\n",
              "      <td>0.06</td>\n",
              "      <td>0.01</td>\n",
              "      <td>0.0</td>\n",
              "      <td>0.0</td>\n",
              "      <td>normal.</td>\n",
              "    </tr>\n",
              "    <tr>\n",
              "      <th>64291</th>\n",
              "      <td>0</td>\n",
              "      <td>tcp</td>\n",
              "      <td>http</td>\n",
              "      <td>SF</td>\n",
              "      <td>291</td>\n",
              "      <td>1200</td>\n",
              "      <td>0</td>\n",
              "      <td>0</td>\n",
              "      <td>0</td>\n",
              "      <td>0</td>\n",
              "      <td>...</td>\n",
              "      <td>255</td>\n",
              "      <td>1.0</td>\n",
              "      <td>0.0</td>\n",
              "      <td>0.04</td>\n",
              "      <td>0.05</td>\n",
              "      <td>0.04</td>\n",
              "      <td>0.01</td>\n",
              "      <td>0.0</td>\n",
              "      <td>0.0</td>\n",
              "      <td>normal.</td>\n",
              "    </tr>\n",
              "    <tr>\n",
              "      <th>64292</th>\n",
              "      <td>0</td>\n",
              "      <td>tcp</td>\n",
              "      <td>http</td>\n",
              "      <td>SF</td>\n",
              "      <td>219</td>\n",
              "      <td>1234</td>\n",
              "      <td>0</td>\n",
              "      <td>0</td>\n",
              "      <td>0</td>\n",
              "      <td>0</td>\n",
              "      <td>...</td>\n",
              "      <td>255</td>\n",
              "      <td>1.0</td>\n",
              "      <td>0.0</td>\n",
              "      <td>0.17</td>\n",
              "      <td>0.05</td>\n",
              "      <td>0.00</td>\n",
              "      <td>0.01</td>\n",
              "      <td>0.0</td>\n",
              "      <td>0.0</td>\n",
              "      <td>normal.</td>\n",
              "    </tr>\n",
              "  </tbody>\n",
              "</table>\n",
              "<p>64293 rows × 42 columns</p>\n",
              "</div>\n",
              "      <button class=\"colab-df-convert\" onclick=\"convertToInteractive('df-30750e18-2de1-4bdc-a377-92c51670b1a1')\"\n",
              "              title=\"Convert this dataframe to an interactive table.\"\n",
              "              style=\"display:none;\">\n",
              "        \n",
              "  <svg xmlns=\"http://www.w3.org/2000/svg\" height=\"24px\"viewBox=\"0 0 24 24\"\n",
              "       width=\"24px\">\n",
              "    <path d=\"M0 0h24v24H0V0z\" fill=\"none\"/>\n",
              "    <path d=\"M18.56 5.44l.94 2.06.94-2.06 2.06-.94-2.06-.94-.94-2.06-.94 2.06-2.06.94zm-11 1L8.5 8.5l.94-2.06 2.06-.94-2.06-.94L8.5 2.5l-.94 2.06-2.06.94zm10 10l.94 2.06.94-2.06 2.06-.94-2.06-.94-.94-2.06-.94 2.06-2.06.94z\"/><path d=\"M17.41 7.96l-1.37-1.37c-.4-.4-.92-.59-1.43-.59-.52 0-1.04.2-1.43.59L10.3 9.45l-7.72 7.72c-.78.78-.78 2.05 0 2.83L4 21.41c.39.39.9.59 1.41.59.51 0 1.02-.2 1.41-.59l7.78-7.78 2.81-2.81c.8-.78.8-2.07 0-2.86zM5.41 20L4 18.59l7.72-7.72 1.47 1.35L5.41 20z\"/>\n",
              "  </svg>\n",
              "      </button>\n",
              "      \n",
              "  <style>\n",
              "    .colab-df-container {\n",
              "      display:flex;\n",
              "      flex-wrap:wrap;\n",
              "      gap: 12px;\n",
              "    }\n",
              "\n",
              "    .colab-df-convert {\n",
              "      background-color: #E8F0FE;\n",
              "      border: none;\n",
              "      border-radius: 50%;\n",
              "      cursor: pointer;\n",
              "      display: none;\n",
              "      fill: #1967D2;\n",
              "      height: 32px;\n",
              "      padding: 0 0 0 0;\n",
              "      width: 32px;\n",
              "    }\n",
              "\n",
              "    .colab-df-convert:hover {\n",
              "      background-color: #E2EBFA;\n",
              "      box-shadow: 0px 1px 2px rgba(60, 64, 67, 0.3), 0px 1px 3px 1px rgba(60, 64, 67, 0.15);\n",
              "      fill: #174EA6;\n",
              "    }\n",
              "\n",
              "    [theme=dark] .colab-df-convert {\n",
              "      background-color: #3B4455;\n",
              "      fill: #D2E3FC;\n",
              "    }\n",
              "\n",
              "    [theme=dark] .colab-df-convert:hover {\n",
              "      background-color: #434B5C;\n",
              "      box-shadow: 0px 1px 3px 1px rgba(0, 0, 0, 0.15);\n",
              "      filter: drop-shadow(0px 1px 2px rgba(0, 0, 0, 0.3));\n",
              "      fill: #FFFFFF;\n",
              "    }\n",
              "  </style>\n",
              "\n",
              "      <script>\n",
              "        const buttonEl =\n",
              "          document.querySelector('#df-30750e18-2de1-4bdc-a377-92c51670b1a1 button.colab-df-convert');\n",
              "        buttonEl.style.display =\n",
              "          google.colab.kernel.accessAllowed ? 'block' : 'none';\n",
              "\n",
              "        async function convertToInteractive(key) {\n",
              "          const element = document.querySelector('#df-30750e18-2de1-4bdc-a377-92c51670b1a1');\n",
              "          const dataTable =\n",
              "            await google.colab.kernel.invokeFunction('convertToInteractive',\n",
              "                                                     [key], {});\n",
              "          if (!dataTable) return;\n",
              "\n",
              "          const docLinkHtml = 'Like what you see? Visit the ' +\n",
              "            '<a target=\"_blank\" href=https://colab.research.google.com/notebooks/data_table.ipynb>data table notebook</a>'\n",
              "            + ' to learn more about interactive tables.';\n",
              "          element.innerHTML = '';\n",
              "          dataTable['output_type'] = 'display_data';\n",
              "          await google.colab.output.renderOutput(dataTable, element);\n",
              "          const docLink = document.createElement('div');\n",
              "          docLink.innerHTML = docLinkHtml;\n",
              "          element.appendChild(docLink);\n",
              "        }\n",
              "      </script>\n",
              "    </div>\n",
              "  </div>\n",
              "  "
            ]
          },
          "metadata": {},
          "execution_count": 3
        }
      ],
      "source": [
        "dataset"
      ]
    },
    {
      "cell_type": "markdown",
      "metadata": {
        "id": "2KsJeRAvNaXN"
      },
      "source": [
        "## **Features:**\n",
        " \n",
        "  \n",
        "\n",
        "*   **duration:**\t \n",
        "    length (number of seconds) of the connection\t\t\t\t\n",
        "*   **protocol_type:**\t \t \n",
        "    type of the protocol, e.g. tcp, udp, etc.\t\t\t\t\t\n",
        "*   **service:**\t \t \n",
        "    network service on the destination, e.g., http, telnet, etc.\t\n",
        "*   **flag:**\t \t \n",
        "    normal or error status of the connection \t\n",
        "*   **src_bytes:** \t \n",
        "    number of data bytes from source to destination\t\t\t\n",
        "*   **dst_bytes:**\t\t \n",
        "    number of data bytes from destination to source\n",
        "*   **land:**\t\t \n",
        "    1 if connection is from/to the same host/port; 0 otherwise\t\n",
        "*   **wrong_fragment:**\t\t \n",
        "    number of “wrong” fragments\t\n",
        "*   **urgent:**\t\t \n",
        "    number of urgent packets\n",
        "*   **hot:**\t\t \n",
        "    number of “hot” indicators\n",
        "*   **num_failed_logins:** \t \n",
        "    number of failed login attempts\n",
        "*   **logged_in:**\t\t \n",
        "    11 if successfully logged in; 0 otherwise\t\n",
        "*   **num_compromised:**\t\t \n",
        "    number of “compromised” conditions\n",
        "*   **root_shell:**\t\t \n",
        "    1 if root shell is obtained; 0 otherwise\t\n",
        "*   **su_attempted:**\t\t \n",
        "    1 if “su root” command attempted; 0 otherwise\n",
        "*   **num_root:**\t\t \n",
        "    number of “root” accesses\n",
        "*   **num_file_creations:**\t\t \n",
        "    number of file creation operations\t\n",
        "*   **num_shells:**\t\t \n",
        "    number of shell prompts\n",
        "*   **num_access_files:**\t\t \n",
        "    number of operations on access control files\t\n",
        "*   **num_outbound_cmds:**\t\t \n",
        "    number of outbound commands in an ftp session\t\n",
        "*   **is_host_login:**\t\t \n",
        "    1 if the login belongs to the “hot” list; 0 otherwise\n",
        "*   **is_guest_login:**\t\t \n",
        "    1 if the login is a “guest”login; 0 otherwise\n",
        "*   **count:**\t\t \n",
        "    number of connections to the same host as the current connection in the past two seconds\n",
        "*   **srv_count:**\t\t \n",
        "    Number of connection to the same service (port number)\n",
        "*   **serror_rate:**\t\t \n",
        "    Percentage of connections that have activated flag (#4) s0,s1,s2 or s3, among the connections aggregated in count (#23)\n",
        "*   **srv_rerror_rate:**\t\t \n",
        "    Percentage of connection that have activated flag (#4) s0,s1,s2 or s3, among the connections aggregated in srv count (#24)\n",
        "*   **rerror_rate:**\t\t \n",
        "    Percentage of connections that have activated flag (#4 )REJ, among the connections aggregated in count (#23)\n",
        "*   **srv_rerror_rate:** \t \n",
        "    Percentage of connections that have activated flag (#4) REJ, among the connections aggregated in srv count (#24)\n",
        "*   **same_srv_rate:**\t\t \n",
        "    Percentage of connections that were to the same services, among the connections aggregated in count (#23)\n",
        "*   **diff_srv_rate:**\t\t \n",
        "    Percentage of connections that were to the different services, among the connections aggregated in count (#23)\n",
        "*   **srv_count:**\t\t \n",
        "    Number of connection to the same service (port number)\n",
        "*   **srv_diff_host_rate:**\t\t \n",
        "    Percentage of connections that were to different destination machines among the connections aggregated in srv count (#24)\n",
        "*   **dst_host_count:**\t\t \n",
        "    Number of connections having the same destination host IP address\n",
        "*   **dst_host_srv_count:**\t\t \n",
        "    Number of connections having same port number\n",
        "*   **dst_host_same_srv_rate:**\t\t \n",
        "    Percentage of connections that were to the same service among\n",
        "the connections aggregated in dst host count (#32)\n",
        "*   **dst_host_diff_srv_rate:**\t\t \n",
        "    Percentage of connections that were to different service among the connections aggregated in dst host count (#32)\n",
        "*   **dst_host_same_src_port_rate:**\t\t \n",
        "    Percentage of connections that were to the same source port among the connections aggregated in dst host srv count (#33)\n",
        "*   **dst_host_srv_diff_host_rate:**\t\t \n",
        "    Percentage of connections that were to the different destination machines among the connections aggregated in dthtt(#33)\n",
        "*   **dst_host_serror_rate:**\t\t \n",
        "    Percentage of connections that have activated flag (#4) s0,s1,s2 or s3, among the connections aggregated in dst host count (#32)\n",
        "*   **dst_host_srv_serror_rate:**\t\t \n",
        "    Percentage of connections that have activated flag (#4) REJ, among the connections aggregated in dst host count (#32)\n",
        "*   **dst_host_rerror_rate:**\t\t \n",
        "    Percentage of connections that have activated flag (#4) REJ, among the connections aggregated in dst host count (#32)\t\n",
        "*   **dst_host_srv_rerror_rate:**\t\t \n",
        "    Percentage of connections that have activated flag (#4) REJ, among the connections aggregated in dst host srv count (#32)\n",
        "*   **label:**\t\t \n",
        "    Attack class label"
      ]
    },
    {
      "cell_type": "code",
      "execution_count": 4,
      "metadata": {
        "id": "Y7B8QidONaXV"
      },
      "outputs": [],
      "source": [
        "dataset.rename(columns = {'label':'outcome'}, inplace = True)"
      ]
    },
    {
      "cell_type": "markdown",
      "metadata": {
        "id": "IkWuOgceNaXW"
      },
      "source": [
        "## **Analyzing our database**\n",
        "\n",
        "To analyze our database we need to get the percentage of every possible value in each column, to do that:\n",
        "\n",
        "\n",
        "\n",
        "*   expand all categories values in each column\n",
        "*   get number of categories values in each column in the dataset\n",
        "*   get the percentage of every categories value in each column\n",
        "*   run the fonction on each column \n"
      ]
    },
    {
      "cell_type": "code",
      "execution_count": 5,
      "metadata": {
        "id": "2rfW7DAwNaXX",
        "colab": {
          "base_uri": "https://localhost:8080/"
        },
        "outputId": "cc4a9bfc-618b-46c6-f612-577bf5655586"
      },
      "outputs": [
        {
          "output_type": "stream",
          "name": "stdout",
          "text": [
            "\n",
            "64293 rows\n",
            "** duration:178 (0%)\n",
            "** protocol_type:[tcp:100.0%]\n",
            "** service:[http:100.0%]\n",
            "** flag:[SF:91.06%,REJ:8.33%,S0:0.31%,RSTR:0.14%,RSTO:0.06%,S1:0.06%,S2:0.03%,S3:0.01%]\n",
            "** src_bytes:435 (0%)\n",
            "** dst_bytes:10414 (16%)\n",
            "** land:[0:100.0%]\n",
            "** wrong_fragment:[0:100.0%]\n",
            "** urgent:[0:100.0%]\n",
            "** hot:[0:96.34%,2:3.36%,1:0.28%,4:0.01%,3:0.01%]\n",
            "** num_failed_logins:[0:100.0%]\n",
            "** logged_in:[1:91.34%,0:8.66%]\n",
            "** num_compromised:[0:96.68%,1:3.31%,4:0.01%,2:0.0%]\n",
            "** root_shell:[0:99.97%,1:0.03%]\n",
            "** su_attempted:[0:100.0%]\n",
            "** num_root:[0:100.0%,1:0.0%]\n",
            "** num_file_creations:[0:100.0%]\n",
            "** num_shells:[0:100.0%]\n",
            "** num_access_files:[0:99.5%,1:0.5%]\n",
            "** num_outbound_cmds:[0:100.0%]\n",
            "** is_host_login:[0:100.0%]\n",
            "** is_guest_login:[0:100.0%]\n",
            "** count:163 (0%)\n",
            "** srv_count:[1:13.37%,2:8.5%,3:6.33%,4:5.99%,5:5.26%,6:4.75%,7:4.11%,8:3.91%,9:3.51%,10:3.24%,11:3.19%,12:2.85%,13:2.67%,14:2.58%,15:2.28%,16:2.21%,17:1.89%,18:1.88%,19:1.78%,20:1.61%,21:1.49%,22:1.26%,23:1.18%,24:1.16%,25:1.09%,26:0.93%,27:0.86%,28:0.84%,29:0.82%,30:0.7%,31:0.68%,33:0.59%,32:0.54%,34:0.54%,36:0.47%,35:0.47%,37:0.43%,38:0.38%,39:0.38%,40:0.34%,41:0.27%,42:0.25%,43:0.22%,44:0.2%,46:0.17%,45:0.16%,47:0.16%,48:0.13%,49:0.12%,50:0.11%,51:0.1%,53:0.1%,52:0.09%,54:0.09%,55:0.08%,56:0.06%,57:0.06%,59:0.05%,58:0.05%,60:0.04%,63:0.04%,61:0.04%,62:0.03%,68:0.03%,64:0.03%,66:0.02%,65:0.02%,67:0.02%,72:0.02%,76:0.02%,73:0.02%,69:0.02%,70:0.02%,79:0.01%,71:0.01%,80:0.01%,75:0.01%,74:0.01%,77:0.01%,85:0.01%,86:0.01%,84:0.0%,89:0.0%,82:0.0%,100:0.0%,83:0.0%,78:0.0%,81:0.0%,105:0.0%,106:0.0%,87:0.0%,91:0.0%,88:0.0%,104:0.0%,92:0.0%,98:0.0%,103:0.0%,94:0.0%,109:0.0%]\n",
            "** serror_rate:[0.0:98.69%,1.0:0.28%,0.5:0.09%,0.06:0.08%,0.07:0.08%,0.25:0.08%,0.05:0.08%,0.03:0.07%,0.17:0.07%,0.04:0.07%,0.33:0.06%,0.08:0.06%,0.2:0.05%,0.11:0.04%,0.09:0.04%,0.1:0.04%,0.14:0.03%,0.12:0.03%,0.02:0.02%,0.22:0.0%,0.88:0.0%,0.94:0.0%,0.98:0.0%,0.93:0.0%,0.92:0.0%,0.78:0.0%,0.95:0.0%,0.01:0.0%,0.19:0.0%]\n",
            "** srv_serror_rate:[0.0:97.92%,1.0:0.25%,0.03:0.21%,0.04:0.19%,0.05:0.17%,0.06:0.14%,0.02:0.13%,0.08:0.11%,0.07:0.1%,0.17:0.08%,0.25:0.08%,0.5:0.07%,0.09:0.07%,0.1:0.07%,0.12:0.07%,0.33:0.07%,0.2:0.07%,0.11:0.07%,0.14:0.05%,0.01:0.02%,0.18:0.01%,0.19:0.01%,0.95:0.01%,0.94:0.01%,0.15:0.0%,0.4:0.0%,0.88:0.0%,0.67:0.0%,0.22:0.0%,0.27:0.0%,0.92:0.0%,0.83:0.0%,0.21:0.0%,0.9:0.0%,0.86:0.0%,0.93:0.0%,0.51:0.0%,0.23:0.0%,0.44:0.0%,0.75:0.0%,0.45:0.0%,0.35:0.0%,0.36:0.0%,0.91:0.0%,0.37:0.0%,0.38:0.0%,0.16:0.0%,0.8:0.0%]\n",
            "** rerror_rate:[0.0:90.88%,1.0:8.32%,0.25:0.14%,0.2:0.1%,0.5:0.1%,0.33:0.1%,0.17:0.06%,0.14:0.03%,0.06:0.03%,0.05:0.02%,0.08:0.02%,0.1:0.02%,0.12:0.02%,0.09:0.02%,0.07:0.02%,0.03:0.02%,0.11:0.02%,0.67:0.01%,0.75:0.01%,0.4:0.01%,0.02:0.01%,0.04:0.01%,0.71:0.01%,0.83:0.01%,0.6:0.0%,0.86:0.0%,0.92:0.0%,0.81:0.0%,0.91:0.0%,0.22:0.0%,0.88:0.0%,0.69:0.0%,0.37:0.0%,0.82:0.0%,0.73:0.0%,0.89:0.0%,0.96:0.0%,0.9:0.0%,0.29:0.0%,0.62:0.0%]\n",
            "** srv_rerror_rate:[0.0:89.42%,1.0:8.17%,0.33:0.38%,0.5:0.28%,0.25:0.27%,0.2:0.22%,0.17:0.2%,0.14:0.11%,0.04:0.09%,0.12:0.09%,0.03:0.09%,0.06:0.08%,0.02:0.08%,0.05:0.06%,0.07:0.06%,0.4:0.05%,0.67:0.04%,0.08:0.04%,0.11:0.04%,0.29:0.04%,0.09:0.04%,0.1:0.02%,0.75:0.02%,0.6:0.02%,0.01:0.01%,0.71:0.01%,0.22:0.01%,0.83:0.0%,0.79:0.0%,0.88:0.0%,0.81:0.0%,0.92:0.0%,0.96:0.0%,0.18:0.0%,0.43:0.0%,0.73:0.0%,0.27:0.0%,0.85:0.0%,0.93:0.0%,0.8:0.0%,0.62:0.0%,0.69:0.0%,0.86:0.0%,0.37:0.0%,0.82:0.0%,0.87:0.0%,0.95:0.0%,0.21:0.0%,0.38:0.0%,0.13:0.0%]\n",
            "** same_srv_rate:[1.0:99.66%,0.06:0.02%,0.03:0.02%,0.05:0.02%,0.07:0.02%,0.02:0.02%,0.04:0.02%,0.01:0.02%,0.67:0.01%,0.33:0.01%,0.8:0.01%,0.75:0.01%,0.08:0.01%,0.26:0.01%,0.86:0.01%,0.37:0.01%,0.32:0.01%,0.25:0.01%,0.5:0.01%,0.43:0.0%,0.54:0.0%,0.34:0.0%,0.09:0.0%,0.1:0.0%,0.31:0.0%,0.0:0.0%,0.3:0.0%,0.14:0.0%,0.38:0.0%,0.42:0.0%,0.52:0.0%,0.39:0.0%,0.29:0.0%,0.36:0.0%,0.12:0.0%,0.22:0.0%,0.89:0.0%,0.88:0.0%,0.47:0.0%,0.83:0.0%,0.78:0.0%,0.56:0.0%,0.19:0.0%,0.9:0.0%,0.24:0.0%,0.6:0.0%,0.95:0.0%,0.94:0.0%,0.59:0.0%,0.73:0.0%,0.62:0.0%,0.48:0.0%,0.23:0.0%,0.35:0.0%,0.2:0.0%,0.92:0.0%,0.27:0.0%,0.45:0.0%]\n",
            "** diff_srv_rate:[0.0:99.66%,0.06:0.09%,0.07:0.07%,0.05:0.02%,0.08:0.02%,0.67:0.01%,0.5:0.01%,0.09:0.01%,0.4:0.01%,0.17:0.01%,1.0:0.01%,0.1:0.01%,0.21:0.01%,0.29:0.01%,0.14:0.01%,0.25:0.0%,0.33:0.0%,0.11:0.0%,0.12:0.0%,0.18:0.0%,0.15:0.0%,0.22:0.0%,0.2:0.0%,0.24:0.0%,0.57:0.0%,0.23:0.0%,0.31:0.0%,0.53:0.0%,0.6:0.0%,0.36:0.0%,0.62:0.0%,0.42:0.0%,0.3:0.0%,0.44:0.0%,0.16:0.0%]\n",
            "** srv_diff_host_rate:[0.0:61.8%,1.0:3.36%,0.12:2.17%,0.11:1.75%,0.33:1.72%,0.5:1.71%,0.1:1.59%,0.25:1.57%,0.14:1.5%,0.08:1.48%,0.67:1.45%,0.17:1.42%,0.09:1.39%,0.15:1.35%,0.2:1.31%,0.07:1.3%,0.18:1.29%,0.4:1.23%,0.29:1.17%,0.13:1.16%,0.22:1.1%,0.06:1.05%,0.05:0.71%,0.21:0.56%,0.19:0.53%,0.16:0.53%,0.27:0.44%,0.04:0.36%,0.3:0.36%,0.23:0.35%,0.43:0.35%,0.38:0.34%,0.6:0.31%,0.75:0.28%,0.24:0.18%,0.36:0.16%,0.31:0.12%,0.03:0.08%,0.57:0.07%,0.44:0.06%,0.26:0.05%,0.28:0.05%,0.8:0.05%,0.42:0.04%,0.62:0.02%,0.45:0.02%,0.56:0.02%,0.35:0.02%,0.71:0.01%,0.83:0.01%,0.32:0.01%,0.47:0.01%,0.55:0.0%,0.37:0.0%,0.41:0.0%,0.46:0.0%,0.54:0.0%,0.02:0.0%,0.88:0.0%,0.7:0.0%,0.64:0.0%,0.86:0.0%]\n",
            "** dst_host_count:256 (0%)\n",
            "** dst_host_srv_count:256 (0%)\n",
            "** dst_host_same_srv_rate:[1.0:95.95%,0.98:0.69%,0.96:0.55%,0.97:0.46%,0.99:0.38%,0.95:0.31%,0.94:0.26%,0.93:0.2%,0.92:0.11%,0.89:0.11%,0.88:0.11%,0.91:0.1%,0.87:0.09%,0.9:0.06%,0.85:0.05%,0.86:0.04%,0.83:0.04%,0.05:0.03%,0.25:0.03%,0.07:0.03%,0.84:0.03%,0.03:0.03%,0.02:0.02%,0.82:0.02%,0.01:0.02%,0.04:0.02%,0.0:0.01%,0.26:0.01%,0.06:0.01%,0.24:0.01%,0.08:0.01%,0.81:0.01%,0.76:0.01%,0.74:0.01%,0.8:0.01%,0.73:0.01%,0.17:0.01%,0.22:0.01%,0.78:0.01%,0.7:0.01%,0.27:0.01%,0.23:0.01%,0.09:0.01%,0.67:0.01%,0.19:0.0%,0.21:0.0%,0.61:0.0%,0.75:0.0%,0.64:0.0%,0.79:0.0%,0.52:0.0%,0.72:0.0%,0.2:0.0%,0.77:0.0%,0.28:0.0%,0.45:0.0%,0.3:0.0%,0.66:0.0%,0.38:0.0%,0.71:0.0%,0.16:0.0%,0.18:0.0%,0.15:0.0%,0.6:0.0%,0.29:0.0%,0.13:0.0%,0.12:0.0%,0.59:0.0%,0.1:0.0%,0.47:0.0%,0.69:0.0%,0.56:0.0%,0.11:0.0%,0.68:0.0%,0.57:0.0%,0.58:0.0%,0.5:0.0%,0.48:0.0%]\n",
            "** dst_host_diff_srv_rate:[0.0:95.7%,0.01:2.76%,0.02:0.96%,0.03:0.12%,0.07:0.1%,0.04:0.1%,0.05:0.07%,0.06:0.06%,0.08:0.05%,0.1:0.01%,1.0:0.01%,0.09:0.01%,0.16:0.01%,0.18:0.0%,0.14:0.0%,0.11:0.0%,0.17:0.0%,0.2:0.0%,0.12:0.0%,0.33:0.0%,0.25:0.0%,0.32:0.0%,0.36:0.0%,0.13:0.0%,0.15:0.0%,0.5:0.0%,0.3:0.0%,0.27:0.0%,0.24:0.0%]\n",
            "** dst_host_same_src_port_rate:[0.0:38.19%,0.01:19.32%,0.02:8.46%,0.03:5.66%,0.04:3.5%,0.05:2.72%,1.0:2.63%,0.5:2.29%,0.06:2.24%,0.33:1.84%,0.08:1.79%,0.07:1.67%,0.25:1.65%,0.2:1.42%,0.17:1.32%,0.12:1.13%,0.14:1.12%,0.11:1.08%,0.1:1.04%,0.09:0.9%,0.67:0.0%,0.4:0.0%,0.18:0.0%,0.15:0.0%,0.29:0.0%,0.22:0.0%,0.69:0.0%,0.62:0.0%,0.13:0.0%]\n",
            "** dst_host_srv_diff_host_rate:[0.0:38.69%,0.02:13.26%,0.04:9.53%,0.01:9.45%,0.03:8.61%,0.05:6.69%,0.06:2.75%,0.07:2.2%,0.08:0.91%,0.09:0.86%,0.16:0.59%,0.15:0.56%,0.11:0.55%,0.13:0.53%,0.1:0.5%,0.2:0.45%,0.18:0.45%,0.17:0.42%,0.14:0.42%,0.12:0.38%,0.19:0.33%,0.21:0.32%,0.22:0.3%,0.24:0.2%,0.23:0.16%,0.25:0.13%,0.27:0.12%,0.26:0.1%,0.29:0.07%,0.28:0.06%,0.33:0.06%,0.31:0.05%,0.3:0.05%,0.32:0.04%,0.5:0.02%,0.38:0.02%,0.34:0.02%,0.35:0.02%,0.36:0.02%,1.0:0.02%,0.4:0.01%,0.37:0.01%,0.67:0.01%,0.44:0.01%,0.42:0.01%,0.57:0.0%,0.43:0.0%,0.46:0.0%,0.39:0.0%,0.41:0.0%,0.6:0.0%,0.8:0.0%,0.7:0.0%,0.47:0.0%]\n",
            "** dst_host_serror_rate:[0.0:94.72%,0.01:3.43%,0.02:0.65%,0.03:0.33%,1.0:0.26%,0.04:0.13%,0.05:0.1%,0.06:0.08%,0.07:0.05%,0.08:0.04%,0.33:0.03%,0.1:0.02%,0.11:0.02%,0.09:0.02%,0.12:0.02%,0.17:0.02%,0.2:0.02%,0.5:0.02%,0.25:0.01%,0.14:0.01%,0.99:0.0%,0.47:0.0%,0.28:0.0%,0.16:0.0%,0.13:0.0%,0.82:0.0%,0.9:0.0%]\n",
            "** dst_host_srv_serror_rate:[0.0:93.31%,0.01:5.81%,0.02:0.44%,1.0:0.26%,0.03:0.09%,0.04:0.06%,0.05:0.01%,0.1:0.0%,0.07:0.0%,0.06:0.0%,0.09:0.0%,0.08:0.0%,0.2:0.0%,0.17:0.0%]\n",
            "** dst_host_rerror_rate:101 (0%)\n",
            "** dst_host_srv_rerror_rate:101 (0%)\n",
            "** outcome:[normal.:96.26%,back.:3.43%,neptune.:0.3%,phf.:0.01%,ipsweep.:0.0%,portsweep.:0.0%,satan.:0.0%]\n"
          ]
        }
      ],
      "source": [
        "import pandas as pd\n",
        "import os\n",
        "import numpy as np\n",
        "from sklearn import metrics\n",
        "from scipy.stats import zscore\n",
        "\n",
        "def expand_categories(values):\n",
        "    result = []\n",
        "    s = values.value_counts()\n",
        "    t = float(len(values))\n",
        "    for v in s.index:\n",
        "        result.append(\"{}:{}%\".format(v,round(100*(s[v]/t),2)))\n",
        "    return \"[{}]\".format(\",\".join(result))\n",
        "        \n",
        "def analyze(df):\n",
        "    print()\n",
        "    cols = df.columns.values\n",
        "    total = float(len(df))\n",
        "\n",
        "    print(\"{} rows\".format(int(total)))\n",
        "    for col in cols:\n",
        "        uniques = df[col].unique()\n",
        "        unique_count = len(uniques)\n",
        "        if unique_count>100:\n",
        "            print(\"** {}:{} ({}%)\".format(col,unique_count,\\\n",
        "                int(((unique_count)/total)*100)))\n",
        "        else:\n",
        "            print(\"** {}:{}\".format(col,expand_categories(df[col])))\n",
        "            expand_categories(df[col])\n",
        "\n",
        "analyze(dataset)"
      ]
    },
    {
      "cell_type": "markdown",
      "metadata": {
        "id": "YUIFxTb5NaXY"
      },
      "source": [
        "## **Preprocessing the dataset**\n",
        "\n",
        "To Preprocess our database we need to :\n",
        "\n",
        "*   Drop the features that are not required\n",
        "*   Separate the features and labels\n",
        "*   Encode the categorical labels into integers\n",
        "\n",
        "    > To encode the categorical labels we need LabelEncoder function that is used to normalize labels. It can also be used to transform non-numerical labels (as long as they are hashable and comparable) to numerical labels. Fit label encoder. Fit label encoder and return encoded labels.\n",
        "*   One-hot encoding the labels\n",
        "\n",
        "    > One hot encoding is a process of converting categorical data variables so they can be provided to machine learning algorithms to improve predictions. One hot encoding is a crucial part of feature engineering for machine learning.\n",
        "\n",
        "*   Feature scaling the input data\n"
      ]
    },
    {
      "cell_type": "code",
      "execution_count": 6,
      "metadata": {
        "id": "weYqa4SANaXZ"
      },
      "outputs": [],
      "source": [
        "# Drop the features that are not required\n",
        "dataset = dataset.drop(dataset.columns[[0, 1, 2, 3, 6, 11, 13, 14, 15, 20, 21]], axis=1)\n",
        "\n",
        "# Separate the features and labels\n",
        "X = dataset.iloc[:, :-1].values\n",
        "y = dataset.iloc[:, -1].values\n",
        "\n",
        "# Encode the categorical labels into integers\n",
        "label_encoder_y = LabelEncoder()\n",
        "y = label_encoder_y.fit_transform(y)\n",
        "\n",
        "# One-hot encoding the labels\n",
        "onehotencoder = OneHotEncoder(categories='auto')\n",
        "y = onehotencoder.fit_transform(y.reshape(-1, 1)).toarray()\n",
        "\n",
        "# Feature scaling the input data\n",
        "scaler = StandardScaler()\n",
        "X = scaler.fit_transform(X)"
      ]
    },
    {
      "cell_type": "markdown",
      "metadata": {
        "id": "ekF9gJZbNaXa"
      },
      "source": [
        "## **Splitting the dataset into train and test sets**\n",
        "X_train : X irrevocable used to fit the machine learning model.\n",
        "\n",
        "X_test : X irrevocable used to evaluate the fit machine learning model.\n",
        "\n",
        "Y_train : Y irrevocable used to fit the machine learning model.\n",
        "\n",
        "Y_test : Y irrevocable used to evaluate the fit machine learning model."
      ]
    },
    {
      "cell_type": "code",
      "execution_count": 7,
      "metadata": {
        "id": "TVzXp7fLNaXb"
      },
      "outputs": [],
      "source": [
        "X_train, X_test, y_train, y_test = train_test_split(X, y, test_size=0.3, random_state=42)"
      ]
    },
    {
      "cell_type": "markdown",
      "source": [
        "# **CNN Model**"
      ],
      "metadata": {
        "id": "dE4BwGdlSvRu"
      }
    },
    {
      "cell_type": "markdown",
      "source": [
        "## **Creating CNN Models**"
      ],
      "metadata": {
        "id": "0XLoNTNROTkU"
      }
    },
    {
      "cell_type": "markdown",
      "metadata": {
        "id": "V8GYSHu0NaXd"
      },
      "source": [
        "### **Creating CNN Model 1**\n",
        "\n",
        "Creating a CNN model for a classification problem using Keras layers:\n",
        "\n",
        "\n",
        "1.   Creates an instance of the Sequential class, which is a Keras model.\n",
        "\n",
        "2.   Adds a **1D convolutional layer** to the model with **64 filters**, a kernel size of **3**, and a **ReLU** activation function. The input shape is specified as **(X_train.shape[1], 1)** which means that the input data is **1-dimensional** and the number of features is equal to **X_train.shape[1]**.\n",
        "\n",
        "3.   Adds a max **pooling layer** to the model with a pool size of **2**.\n",
        "\n",
        "4.   Adds another **1D convolutional layer** to the model with **32 filters**, a kernel size of **3**, and a **ReLU** activation function.\n",
        "\n",
        "5.   Adds another max **pooling layer** to the model with a pool size of **2**.\n",
        "\n",
        "6.   **Flattens** the output from the **convolutional layers** into a **1-dimensional** array.\n",
        "\n",
        "7.   Adds a **fully connected layer** to the model with **128 neurons** and a **ReLU** activation function.\n",
        "\n",
        "8.   Adds a **dropout layer** to the model with a dropout rate of **0.2**. Dropout is a regularization technique that randomly drops out **(sets to zero)** some of the neurons in the layer during training, **which helps prevent overfitting**.\n",
        "\n",
        "9.   Adds the **output layer** to the model. The number of neurons in the output layer is **equal** to the number of classes in the problem, which is **y_train.shape[1]**. The activation function used is **softmax**, which produces a probability distribution over the classes.\n",
        "\n",
        "10.   Compiles the model by specifying the optimizer **(adam)**, loss function **(categorical cross-entropy)**, and evaluation metric **(accuracy)**.\n",
        "\n",
        "11.   Prints a summary of the model architecture, including the layers, number of parameters, and output shapes.\n",
        "\n",
        "    > Creates a CNN model with two 1D convolutional layers, two max pooling layers, a fully connected layer, a dropout layer, and an output layer. The model is compiled with the Adam optimizer and categorical cross-entropy loss function, and is evaluated using the accuracy metric."
      ]
    },
    {
      "cell_type": "code",
      "execution_count": 8,
      "metadata": {
        "id": "3Yix5JaiNaXe",
        "colab": {
          "base_uri": "https://localhost:8080/"
        },
        "outputId": "8e376500-3a45-4ec0-ebf4-28f756c3b584"
      },
      "outputs": [
        {
          "output_type": "stream",
          "name": "stdout",
          "text": [
            "Model: \"sequential\"\n",
            "_________________________________________________________________\n",
            " Layer (type)                Output Shape              Param #   \n",
            "=================================================================\n",
            " conv1d (Conv1D)             (None, 28, 64)            256       \n",
            "                                                                 \n",
            " max_pooling1d (MaxPooling1D  (None, 14, 64)           0         \n",
            " )                                                               \n",
            "                                                                 \n",
            " conv1d_1 (Conv1D)           (None, 12, 32)            6176      \n",
            "                                                                 \n",
            " max_pooling1d_1 (MaxPooling  (None, 6, 32)            0         \n",
            " 1D)                                                             \n",
            "                                                                 \n",
            " flatten (Flatten)           (None, 192)               0         \n",
            "                                                                 \n",
            " dense (Dense)               (None, 128)               24704     \n",
            "                                                                 \n",
            " dropout (Dropout)           (None, 128)               0         \n",
            "                                                                 \n",
            " dense_1 (Dense)             (None, 7)                 903       \n",
            "                                                                 \n",
            "=================================================================\n",
            "Total params: 32,039\n",
            "Trainable params: 32,039\n",
            "Non-trainable params: 0\n",
            "_________________________________________________________________\n"
          ]
        }
      ],
      "source": [
        "classifier = Sequential()\n",
        "\n",
        "# Add convolutional layer\n",
        "classifier.add(Conv1D(filters=64, kernel_size=3, activation='relu', input_shape=(X_train.shape[1], 1)))\n",
        "\n",
        "# Add max pooling layer\n",
        "classifier.add(MaxPooling1D(pool_size=2))\n",
        "\n",
        "# Add another convolutional layer\n",
        "classifier.add(Conv1D(filters=32, kernel_size=3, activation='relu'))\n",
        "\n",
        "# Add max pooling layer\n",
        "classifier.add(MaxPooling1D(pool_size=2))\n",
        "\n",
        "# Flatten the output from convolutional layers\n",
        "classifier.add(Flatten())\n",
        "\n",
        "# Add fully connected layer\n",
        "classifier.add(Dense(units=128, activation='relu'))\n",
        "\n",
        "# Add dropout layer to prevent overfitting\n",
        "classifier.add(Dropout(rate=0.2))\n",
        "\n",
        "# Add output layer\n",
        "classifier.add(Dense(units=y_train.shape[1], activation='softmax'))\n",
        "\n",
        "# Compile the model\n",
        "classifier.compile(optimizer='adam', loss='categorical_crossentropy', metrics=['accuracy'])\n",
        "\n",
        "# Print the model summary\n",
        "classifier.summary()"
      ]
    },
    {
      "cell_type": "markdown",
      "metadata": {
        "id": "kn4YlAXKNaXf"
      },
      "source": [
        "### **Creating CNN Model 2**\n",
        "\n",
        "**Model 2:** Change activation function to LeakyReLU, optimizer to RMSprop, loss function to mean squared error, and increase the dropout rate."
      ]
    },
    {
      "cell_type": "code",
      "execution_count": 9,
      "metadata": {
        "id": "xD6W7tSBNaXg",
        "colab": {
          "base_uri": "https://localhost:8080/"
        },
        "outputId": "8af305a6-66f5-4f0c-e119-41725d5f3cd0"
      },
      "outputs": [
        {
          "output_type": "stream",
          "name": "stdout",
          "text": [
            "Model: \"sequential_1\"\n",
            "_________________________________________________________________\n",
            " Layer (type)                Output Shape              Param #   \n",
            "=================================================================\n",
            " conv1d_2 (Conv1D)           (None, 28, 128)           512       \n",
            "                                                                 \n",
            " max_pooling1d_2 (MaxPooling  (None, 14, 128)          0         \n",
            " 1D)                                                             \n",
            "                                                                 \n",
            " conv1d_3 (Conv1D)           (None, 12, 64)            24640     \n",
            "                                                                 \n",
            " max_pooling1d_3 (MaxPooling  (None, 6, 64)            0         \n",
            " 1D)                                                             \n",
            "                                                                 \n",
            " flatten_1 (Flatten)         (None, 384)               0         \n",
            "                                                                 \n",
            " dense_2 (Dense)             (None, 256)               98560     \n",
            "                                                                 \n",
            " dropout_1 (Dropout)         (None, 256)               0         \n",
            "                                                                 \n",
            " dense_3 (Dense)             (None, 7)                 1799      \n",
            "                                                                 \n",
            "=================================================================\n",
            "Total params: 125,511\n",
            "Trainable params: 125,511\n",
            "Non-trainable params: 0\n",
            "_________________________________________________________________\n"
          ]
        }
      ],
      "source": [
        "from keras.layers import LeakyReLU\n",
        "from keras.optimizers import RMSprop\n",
        "\n",
        "# Model 2\n",
        "classifier2 = Sequential()\n",
        "\n",
        "classifier2.add(Conv1D(filters=128, kernel_size=3, activation=LeakyReLU(alpha=0.2), input_shape=(X_train.shape[1], 1)))\n",
        "classifier2.add(MaxPooling1D(pool_size=2))\n",
        "classifier2.add(Conv1D(filters=64, kernel_size=3, activation=LeakyReLU(alpha=0.2)))\n",
        "classifier2.add(MaxPooling1D(pool_size=2))\n",
        "classifier2.add(Flatten())\n",
        "classifier2.add(Dense(units=256, activation=LeakyReLU(alpha=0.2)))\n",
        "classifier2.add(Dropout(rate=0.4))\n",
        "classifier2.add(Dense(units=y_train.shape[1], activation='softmax'))\n",
        "\n",
        "classifier2.compile(optimizer=RMSprop(), loss='mean_squared_error', metrics=['accuracy'])\n",
        "classifier2.summary()\n"
      ]
    },
    {
      "cell_type": "markdown",
      "metadata": {
        "id": "xWzRE1PGNaXg"
      },
      "source": [
        "### **Ceating CNN Model 3**\n",
        "**Model 3:** Change activation function to tanh, optimizer to SGD, loss function to binary cross-entropy, and decrease the dropout rate."
      ]
    },
    {
      "cell_type": "code",
      "execution_count": 10,
      "metadata": {
        "id": "KYQpl85BNaXh",
        "colab": {
          "base_uri": "https://localhost:8080/"
        },
        "outputId": "50f489e0-96ee-4ad0-c304-4fd707486c1d"
      },
      "outputs": [
        {
          "output_type": "stream",
          "name": "stdout",
          "text": [
            "Model: \"sequential_2\"\n",
            "_________________________________________________________________\n",
            " Layer (type)                Output Shape              Param #   \n",
            "=================================================================\n",
            " conv1d_4 (Conv1D)           (None, 28, 32)            128       \n",
            "                                                                 \n",
            " max_pooling1d_4 (MaxPooling  (None, 14, 32)           0         \n",
            " 1D)                                                             \n",
            "                                                                 \n",
            " conv1d_5 (Conv1D)           (None, 12, 16)            1552      \n",
            "                                                                 \n",
            " max_pooling1d_5 (MaxPooling  (None, 6, 16)            0         \n",
            " 1D)                                                             \n",
            "                                                                 \n",
            " flatten_2 (Flatten)         (None, 96)                0         \n",
            "                                                                 \n",
            " dense_4 (Dense)             (None, 64)                6208      \n",
            "                                                                 \n",
            " dropout_2 (Dropout)         (None, 64)                0         \n",
            "                                                                 \n",
            " dense_5 (Dense)             (None, 7)                 455       \n",
            "                                                                 \n",
            "=================================================================\n",
            "Total params: 8,343\n",
            "Trainable params: 8,343\n",
            "Non-trainable params: 0\n",
            "_________________________________________________________________\n"
          ]
        }
      ],
      "source": [
        "from keras.optimizers import SGD\n",
        "\n",
        "# Model 3\n",
        "classifier3 = Sequential()\n",
        "\n",
        "classifier3.add(Conv1D(filters=32, kernel_size=3, activation='tanh', input_shape=(X_train.shape[1], 1)))\n",
        "classifier3.add(MaxPooling1D(pool_size=2))\n",
        "classifier3.add(Conv1D(filters=16, kernel_size=3, activation='tanh'))\n",
        "classifier3.add(MaxPooling1D(pool_size=2))\n",
        "classifier3.add(Flatten())\n",
        "classifier3.add(Dense(units=64, activation='tanh'))\n",
        "classifier3.add(Dropout(rate=0.1))\n",
        "classifier3.add(Dense(units=y_train.shape[1], activation='softmax'))\n",
        "\n",
        "classifier3.compile(optimizer=SGD(), loss='binary_crossentropy', metrics=['accuracy'])\n",
        "classifier3.summary()\n"
      ]
    },
    {
      "cell_type": "markdown",
      "metadata": {
        "id": "fGPw0IdFNaXh"
      },
      "source": [
        "In these examples, I changed the activation function to LeakyReLU and tanh, optimizer to RMSprop and SGD, loss function to mean squared error and binary cross-entropy, and adjusted the dropout rate. These changes can influence the model's learning behavior and potentially impact accuracy. Remember to select appropriate activation functions, optimizers, and loss functions based on your specific task and dataset characteristics.\n",
        "\n",
        "Feel free to modify other parameters or explore different combinations to further investigate their effects on model performance."
      ]
    },
    {
      "cell_type": "markdown",
      "metadata": {
        "id": "hcrT4Qe_NaXi"
      },
      "source": [
        "## **Training the CNN Models**\n",
        "\n",
        "Train a machine learning model using a deep learning neural network called \"classifier\" on some input data **X_train** with corresponding output data **y_train**. \n",
        "\n",
        "The purpose of the neural network is to predict the output values **(y)** for new input values **(X)** that it has not seen before.\n",
        "\n",
        "The **\"fit\"** method of the **\"classifier\"** object is used to train the neural network.\n",
        "\n",
        "The **\"fit\"** method takes in the input data and output data along with some other parameters:\n",
        "\n",
        " \n",
        "\n",
        "*   **X_train.reshape(X_train.shape[0], X_train.shape[1], 1)** - This reshapes the input data to a 3D array. The first dimension is the number of training examples, the second dimension is the length of each input sequence, and the third dimension is the number of features (in this case, there is only one feature). This is necessary for the input shape of the neural network.\n",
        "\n",
        "*   **y_train** - This is the output data that corresponds to the input data.\n",
        "\n",
        "*   **epochs=10** - This specifies the number of times the entire dataset will be passed through the neural network during training.\n",
        "\n",
        "*   **batch_size=128** - This specifies the number of samples that will be used in each training iteration. In this case, the training data will be divided into batches of 128 samples and the neural network will be trained on each batch.\n",
        "\n",
        "*   **validation_data=(X_test.reshape(X_test.shape[0], X_test.shape[1], 1), y_test)** - This specifies the validation data, which is used to evaluate the performance of the neural network during training. The validation data is also reshaped to a 3D array.\n",
        "\n",
        ">The output of the **\"fit\"** method is stored in the **\"history\"** variable. This object contains information about the performance of the neural network during training, such as the training and validation loss and accuracy for each epoch.\n",
        "\n",
        "\n",
        "\n",
        "\n",
        "\n",
        "\n",
        "\n"
      ]
    },
    {
      "cell_type": "markdown",
      "source": [
        "### **Training the CNN model 1**"
      ],
      "metadata": {
        "id": "1KkD09oTSMgR"
      }
    },
    {
      "cell_type": "code",
      "execution_count": 11,
      "metadata": {
        "id": "pY267iizNaXi",
        "colab": {
          "base_uri": "https://localhost:8080/"
        },
        "outputId": "9b59cd08-12ab-423b-cd22-3ba4e55be575"
      },
      "outputs": [
        {
          "output_type": "stream",
          "name": "stdout",
          "text": [
            "Epoch 1/10\n",
            "352/352 [==============================] - 6s 14ms/step - loss: 0.1061 - accuracy: 0.9902 - val_loss: 0.0113 - val_accuracy: 0.9983\n",
            "Epoch 2/10\n",
            "352/352 [==============================] - 5s 15ms/step - loss: 0.0060 - accuracy: 0.9990 - val_loss: 0.0035 - val_accuracy: 0.9995\n",
            "Epoch 3/10\n",
            "352/352 [==============================] - 5s 14ms/step - loss: 0.0031 - accuracy: 0.9995 - val_loss: 0.0026 - val_accuracy: 0.9995\n",
            "Epoch 4/10\n",
            "352/352 [==============================] - 5s 14ms/step - loss: 0.0026 - accuracy: 0.9994 - val_loss: 0.0030 - val_accuracy: 0.9997\n",
            "Epoch 5/10\n",
            "352/352 [==============================] - 6s 17ms/step - loss: 0.0018 - accuracy: 0.9995 - val_loss: 0.0015 - val_accuracy: 0.9998\n",
            "Epoch 6/10\n",
            "352/352 [==============================] - 5s 13ms/step - loss: 0.0018 - accuracy: 0.9996 - val_loss: 0.0011 - val_accuracy: 0.9998\n",
            "Epoch 7/10\n",
            "352/352 [==============================] - 6s 16ms/step - loss: 0.0015 - accuracy: 0.9996 - val_loss: 0.0020 - val_accuracy: 0.9997\n",
            "Epoch 8/10\n",
            "352/352 [==============================] - 5s 14ms/step - loss: 0.0012 - accuracy: 0.9997 - val_loss: 0.0014 - val_accuracy: 0.9996\n",
            "Epoch 9/10\n",
            "352/352 [==============================] - 5s 13ms/step - loss: 8.4606e-04 - accuracy: 0.9998 - val_loss: 0.0018 - val_accuracy: 0.9998\n",
            "Epoch 10/10\n",
            "352/352 [==============================] - 6s 16ms/step - loss: 4.6727e-04 - accuracy: 0.9999 - val_loss: 0.0012 - val_accuracy: 0.9999\n",
            "------------------------------------------\n",
            "Execution time: 53.26221179962158 seconds\n"
          ]
        }
      ],
      "source": [
        "import time\n",
        "# Start the timer\n",
        "start_time = time.time()\n",
        "# Train cnn model 1\n",
        "history = classifier.fit(X_train.reshape(X_train.shape[0], X_train.shape[1], 1), y_train, epochs=10, batch_size=128, validation_data=(X_test.reshape(X_test.shape[0], X_test.shape[1], 1), y_test))\n",
        "# End the timer\n",
        "end_time = time.time()\n",
        "execution_time1 = end_time - start_time\n",
        "\n",
        "# Print Execution time\n",
        "print(\"------------------------------------------\")\n",
        "print(\"Execution time:\", execution_time1, \"seconds\")\n"
      ]
    },
    {
      "cell_type": "markdown",
      "source": [
        "### **Training the CNN model 2**"
      ],
      "metadata": {
        "id": "VQyor__USUt-"
      }
    },
    {
      "cell_type": "code",
      "execution_count": 12,
      "metadata": {
        "id": "YIJpu5jENaXj",
        "colab": {
          "base_uri": "https://localhost:8080/"
        },
        "outputId": "be40dffc-fd72-439b-e67b-1593b730c8f7"
      },
      "outputs": [
        {
          "output_type": "stream",
          "name": "stdout",
          "text": [
            "Epoch 1/10\n",
            "352/352 [==============================] - 11s 30ms/step - loss: 0.0115 - accuracy: 0.9594 - val_loss: 0.0104 - val_accuracy: 0.9637\n",
            "Epoch 2/10\n",
            "352/352 [==============================] - 10s 29ms/step - loss: 0.0108 - accuracy: 0.9621 - val_loss: 0.0104 - val_accuracy: 0.9637\n",
            "Epoch 3/10\n",
            "352/352 [==============================] - 12s 33ms/step - loss: 0.0020 - accuracy: 0.9930 - val_loss: 9.0342e-04 - val_accuracy: 0.9968\n",
            "Epoch 4/10\n",
            "352/352 [==============================] - 10s 29ms/step - loss: 0.0011 - accuracy: 0.9961 - val_loss: 7.9705e-04 - val_accuracy: 0.9972\n",
            "Epoch 5/10\n",
            "352/352 [==============================] - 10s 29ms/step - loss: 0.0010 - accuracy: 0.9964 - val_loss: 8.3085e-04 - val_accuracy: 0.9970\n",
            "Epoch 6/10\n",
            "352/352 [==============================] - 9s 25ms/step - loss: 0.0010 - accuracy: 0.9964 - val_loss: 7.8495e-04 - val_accuracy: 0.9973\n",
            "Epoch 7/10\n",
            "352/352 [==============================] - 10s 28ms/step - loss: 0.0010 - accuracy: 0.9964 - val_loss: 7.9862e-04 - val_accuracy: 0.9972\n",
            "Epoch 8/10\n",
            "352/352 [==============================] - 11s 30ms/step - loss: 0.0010 - accuracy: 0.9964 - val_loss: 7.8512e-04 - val_accuracy: 0.9973\n",
            "Epoch 9/10\n",
            "352/352 [==============================] - 12s 34ms/step - loss: 0.0010 - accuracy: 0.9964 - val_loss: 7.8509e-04 - val_accuracy: 0.9973\n",
            "Epoch 10/10\n",
            "352/352 [==============================] - 12s 33ms/step - loss: 0.0010 - accuracy: 0.9964 - val_loss: 7.9752e-04 - val_accuracy: 0.9972\n",
            "------------------------------------------\n",
            "Execution time: 142.88423132896423 seconds\n"
          ]
        }
      ],
      "source": [
        "import time\n",
        "# Start the timer\n",
        "start_time = time.time()\n",
        "# Train cnn model 2\n",
        "history2 = classifier2.fit(X_train.reshape(X_train.shape[0], X_train.shape[1], 1), y_train, epochs=10, batch_size=128, validation_data=(X_test.reshape(X_test.shape[0], X_test.shape[1], 1), y_test))\n",
        "# End the timer\n",
        "end_time = time.time()\n",
        "execution_time2 = end_time - start_time\n",
        "\n",
        "# Print Execution time\n",
        "print(\"------------------------------------------\")\n",
        "print(\"Execution time:\", execution_time2, \"seconds\")"
      ]
    },
    {
      "cell_type": "markdown",
      "source": [
        "### **Training the CNN model 3**"
      ],
      "metadata": {
        "id": "jSIENzIwSW86"
      }
    },
    {
      "cell_type": "code",
      "execution_count": 13,
      "metadata": {
        "id": "6hBp-IEaNaXl",
        "colab": {
          "base_uri": "https://localhost:8080/"
        },
        "outputId": "349cf317-81dc-4181-9603-92878aa3863a"
      },
      "outputs": [
        {
          "output_type": "stream",
          "name": "stdout",
          "text": [
            "Epoch 1/10\n",
            "352/352 [==============================] - 5s 12ms/step - loss: 0.3584 - accuracy: 0.8947 - val_loss: 0.1149 - val_accuracy: 0.9637\n",
            "Epoch 2/10\n",
            "352/352 [==============================] - 5s 13ms/step - loss: 0.0820 - accuracy: 0.9621 - val_loss: 0.0605 - val_accuracy: 0.9637\n",
            "Epoch 3/10\n",
            "352/352 [==============================] - 4s 12ms/step - loss: 0.0567 - accuracy: 0.9621 - val_loss: 0.0486 - val_accuracy: 0.9637\n",
            "Epoch 4/10\n",
            "352/352 [==============================] - 5s 14ms/step - loss: 0.0475 - accuracy: 0.9621 - val_loss: 0.0416 - val_accuracy: 0.9637\n",
            "Epoch 5/10\n",
            "352/352 [==============================] - 4s 11ms/step - loss: 0.0411 - accuracy: 0.9621 - val_loss: 0.0360 - val_accuracy: 0.9637\n",
            "Epoch 6/10\n",
            "352/352 [==============================] - 4s 11ms/step - loss: 0.0356 - accuracy: 0.9621 - val_loss: 0.0309 - val_accuracy: 0.9637\n",
            "Epoch 7/10\n",
            "352/352 [==============================] - 4s 11ms/step - loss: 0.0305 - accuracy: 0.9621 - val_loss: 0.0264 - val_accuracy: 0.9637\n",
            "Epoch 8/10\n",
            "352/352 [==============================] - 4s 11ms/step - loss: 0.0264 - accuracy: 0.9624 - val_loss: 0.0227 - val_accuracy: 0.9637\n",
            "Epoch 9/10\n",
            "352/352 [==============================] - 4s 12ms/step - loss: 0.0229 - accuracy: 0.9662 - val_loss: 0.0197 - val_accuracy: 0.9639\n",
            "Epoch 10/10\n",
            "352/352 [==============================] - 4s 10ms/step - loss: 0.0200 - accuracy: 0.9773 - val_loss: 0.0172 - val_accuracy: 0.9957\n",
            "------------------------------------------\n",
            "Execution time: 82.87204623222351 seconds\n"
          ]
        }
      ],
      "source": [
        "import time\n",
        "# Start the timer\n",
        "start_time = time.time()\n",
        "# Train cnn model 3\n",
        "history3 = classifier3.fit(X_train.reshape(X_train.shape[0], X_train.shape[1], 1), y_train, epochs=10, batch_size=128, validation_data=(X_test.reshape(X_test.shape[0], X_test.shape[1], 1), y_test))\n",
        "# End the timer\n",
        "end_time = time.time()\n",
        "execution_time3 = end_time - start_time\n",
        "\n",
        "# Print Execution time\n",
        "print(\"------------------------------------------\")\n",
        "print(\"Execution time:\", execution_time3, \"seconds\")"
      ]
    },
    {
      "cell_type": "markdown",
      "metadata": {
        "id": "cBWJIhDbNaXl"
      },
      "source": [
        "## **Evaluating the model**\n",
        "\n",
        "The \"evaluate\" method takes the following parameters:\n",
        "\n",
        "*  **X_test.reshape((X_test.shape[0], X_test.shape[1], 1))** - This reshapes the test input data to the same 3D array format used during the training. The first dimension is the number of test examples, the second dimension is the length of each input sequence, and the third dimension is the number of features (in this case, there is only one feature).\n",
        "\n",
        "*  **y_test** - This is the corresponding output data for the test input data.\n",
        "\n",
        "*  **verbose=0** - This specifies the level of verbosity of the evaluation process. A value of 0 means that no progress messages will be displayed during the evaluation.\n",
        "\n",
        ">The output of the \"evaluate\" method is stored in the \"score\" variable. The \"score\" variable contains a scalar value that represents the overall performance of the model on the test data. The specific metric used for evaluation depends on the type of model and the problem being solved. For example, if the model is a classifier, the metric might be accuracy, precision, or recall. If the model is a regressor, the metric might be mean squared error or mean absolute error.\n",
        "\n"
      ]
    },
    {
      "cell_type": "markdown",
      "source": [
        "### **Evaluating the accuracy and the loss of the 3 models**"
      ],
      "metadata": {
        "id": "PMxKn21jSR7o"
      }
    },
    {
      "cell_type": "code",
      "source": [
        "# Plot the accuracy and loss curves\n",
        "import matplotlib.pyplot as plt\n",
        "# Get the Score of evaluating CNN 1\n",
        "score1 = classifier.evaluate(X_test.reshape((X_test.shape[0], X_test.shape[1], 1)), y_test, verbose=0)\n",
        "print('Model 1 - Test loss: {:.2%}'.format(score1[0]))  # Display test loss as a percentage\n",
        "print('Model 1 - Test accuracy: {:.2%}'.format(score1[1]))  # Display test accuracy as a percentage\n",
        "\n",
        "# Get the Score of evaluating CNN 2\n",
        "score2 = classifier2.evaluate(X_test.reshape((X_test.shape[0], X_test.shape[1], 1)), y_test, verbose=0)\n",
        "print('Model 2 - Test loss: {:.2%}'.format(score2[0]))  # Display test loss as a percentage\n",
        "print('Model 2 - Test accuracy: {:.2%}'.format(score2[1]))  # Display test accuracy as a percentage\n",
        "\n",
        "# Get the Score of evaluating CNN 3\n",
        "score3 = classifier3.evaluate(X_test.reshape((X_test.shape[0], X_test.shape[1], 1)), y_test, verbose=0)\n",
        "print('Model 3 - Test loss: {:.2%}'.format(score3[0]))  # Display test loss as a percentage\n",
        "print('Model 3 - Test accuracy: {:.2%}'.format(score3[1]))  # Display test accuracy as a percentage\n",
        "\n",
        "\n",
        "# Plot accuracy\n",
        "plt.plot(history.history['accuracy'])\n",
        "plt.plot(history2.history['accuracy'])\n",
        "plt.plot(history3.history['accuracy'])\n",
        "plt.plot(history.history['val_accuracy'])\n",
        "plt.plot(history2.history['val_accuracy'])\n",
        "plt.plot(history3.history['val_accuracy'])\n",
        "plt.title('Model Accuracy')\n",
        "plt.ylabel('Accuracy')\n",
        "plt.xlabel('Epoch')\n",
        "plt.legend(['Model 1 Train', 'Model 2 Train', 'Model 3 Train', 'Model 1 Test', 'Model 2 Test', 'Model 3 Test'], loc='lower right')\n",
        "plt.show()\n",
        "\n",
        "# Plot loss\n",
        "plt.plot(history.history['loss'])\n",
        "plt.plot(history2.history['loss'])\n",
        "plt.plot(history3.history['loss'])\n",
        "plt.plot(history.history['val_loss'])\n",
        "plt.plot(history2.history['val_loss'])\n",
        "plt.plot(history3.history['val_loss'])\n",
        "plt.title('Model Loss')\n",
        "plt.ylabel('Loss')\n",
        "plt.xlabel('Epoch')\n",
        "plt.legend(['Model 1 Train', 'Model 2 Train', 'Model 3 Train', 'Model 1 Test', 'Model 2 Test', 'Model 3 Test'], loc='upper right')\n",
        "plt.show()"
      ],
      "metadata": {
        "colab": {
          "base_uri": "https://localhost:8080/",
          "height": 1000
        },
        "id": "0q2CAgX_SG-H",
        "outputId": "25286ab5-8367-467e-8680-19e0e2df4f36"
      },
      "execution_count": 14,
      "outputs": [
        {
          "output_type": "stream",
          "name": "stdout",
          "text": [
            "Model 1 - Test loss: 0.12%\n",
            "Model 1 - Test accuracy: 99.99%\n",
            "Model 2 - Test loss: 0.08%\n",
            "Model 2 - Test accuracy: 99.72%\n",
            "Model 3 - Test loss: 1.72%\n",
            "Model 3 - Test accuracy: 99.57%\n"
          ]
        },
        {
          "output_type": "display_data",
          "data": {
            "text/plain": [
              "<Figure size 640x480 with 1 Axes>"
            ],
            "image/png": "[encoded data removed]"
          },
          "metadata": {}
        },
        {
          "output_type": "display_data",
          "data": {
            "text/plain": [
              "<Figure size 640x480 with 1 Axes>"
            ],
            "image/png": "[encoded data removed]"
          },
          "metadata": {}
        }
      ]
    },
    {
      "cell_type": "markdown",
      "source": [
        "### **Evaluating the accuracy of the 3 models**"
      ],
      "metadata": {
        "id": "QC5OXFu0Q-6P"
      }
    },
    {
      "cell_type": "code",
      "source": [
        "# Plot the accuracy\n",
        "accuracy = [score1[1], score2[1], score3[1]]\n",
        "labels = ['CNN1', 'CNN2', 'CNN3']\n",
        "colors = ['blue', 'blue', 'blue']  # Set the color for each bar\n",
        "# Find the index of the model with the highest accuracy\n",
        "max_accuracy_index = accuracy.index(max(accuracy))\n",
        "colors[max_accuracy_index] = 'green'  # Set a different color for the bar with the highest accuracy\n",
        "plt.bar(labels, accuracy, color=colors)\n",
        "plt.xlabel('Train CNN Models')\n",
        "plt.ylabel('Accuracy (from 0 to 1)')\n",
        "plt.title('Accuracy of Multiple Models')\n",
        "plt.show()\n"
      ],
      "metadata": {
        "colab": {
          "base_uri": "https://localhost:8080/",
          "height": 472
        },
        "id": "d2UXz6uzRDbI",
        "outputId": "86ba0df5-3e6e-4863-8d32-2a16d2390b1c"
      },
      "execution_count": 15,
      "outputs": [
        {
          "output_type": "display_data",
          "data": {
            "text/plain": [
              "<Figure size 640x480 with 1 Axes>"
            ],
            "image/png": "[encoded data removed]"
          },
          "metadata": {}
        }
      ]
    },
    {
      "cell_type": "markdown",
      "source": [
        "\n",
        "### **Evaluating the Excution time of the 3 models**\n",
        "\n"
      ],
      "metadata": {
        "id": "w2ohhSVKRrP3"
      }
    },
    {
      "cell_type": "code",
      "source": [
        "# Plot the execution times\n",
        "execution_times = [execution_time1, execution_time2, execution_time3]\n",
        "labels = ['CNN1', 'CNN2', 'CNN3']\n",
        "colors = ['blue', 'blue', 'blue']  # Set the color for each bar\n",
        "\n",
        "# Find the index of the model with the lowest execution time\n",
        "min_execution_times_index = execution_times.index(min(execution_times))\n",
        "colors[min_execution_times_index] = 'green'  # Set a different color for the bar with the execution time\n",
        "\n",
        "plt.bar(labels, execution_times, color=colors)\n",
        "plt.xlabel('Train CNN Models')\n",
        "plt.ylabel('Execution Time (seconds)')\n",
        "plt.title('Execution Times of Multiple Trains')\n",
        "plt.show()"
      ],
      "metadata": {
        "colab": {
          "base_uri": "https://localhost:8080/",
          "height": 472
        },
        "id": "3dnmKZr9RqzP",
        "outputId": "8bacda71-2cd4-4a6b-9645-8d40b3f59e02"
      },
      "execution_count": 16,
      "outputs": [
        {
          "output_type": "display_data",
          "data": {
            "text/plain": [
              "<Figure size 640x480 with 1 Axes>"
            ],
            "image/png": "[encoded data removed]"
          },
          "metadata": {}
        }
      ]
    },
    {
      "cell_type": "code",
      "execution_count": 17,
      "metadata": {
        "id": "PKltH2INNaXn"
      },
      "outputs": [],
      "source": [
        "classifier.save('the_best_cnn_model.h5')"
      ]
    },
    {
      "cell_type": "markdown",
      "metadata": {
        "id": "54m2H8JgNaXo"
      },
      "source": [
        "# **Test the best CNN Model**"
      ]
    },
    {
      "cell_type": "markdown",
      "source": [
        "## **TEST 1**"
      ],
      "metadata": {
        "id": "vxG_Yyt_S7OI"
      }
    },
    {
      "cell_type": "markdown",
      "metadata": {
        "id": "bScyvcgzNaXo"
      },
      "source": [
        "### **Create the test example 1**"
      ]
    },
    {
      "cell_type": "code",
      "execution_count": 18,
      "metadata": {
        "id": "jn3TJUmNNaXp"
      },
      "outputs": [],
      "source": [
        "import pandas as pd\n",
        "from sklearn.preprocessing import LabelEncoder, OneHotEncoder, StandardScaler\n",
        "database2 = {\n",
        "    'duration': [0],  # Placeholder value or actual value for duration\n",
        "    'protocol_type': ['tcp'],  # Placeholder value or actual value for protocol_type\n",
        "    'service': ['http'],  # Placeholder value or actual value for service\n",
        "    'flag': ['SF'],  # Placeholder value or actual value for flag\n",
        "    'src_bytes': [943],\n",
        "    'dst_bytes': [0],\n",
        "    'land': [0],  # Placeholder value or actual value for land\n",
        "    'wrong_fragment': [0],\n",
        "    'urgent': [0],\n",
        "    'hot': [0],\n",
        "    'num_failed_logins': [0],\n",
        "    'logged_in': [0],  # Placeholder value or actual value for logged_in\n",
        "    'num_compromised': [0],\n",
        "    'root_shell': [0],  # Placeholder value or actual value for root_shell\n",
        "    'su_attempted': [0],  # Placeholder value or actual value for su_attempted\n",
        "    'num_root': [0],  # Placeholder value or actual value for num_root\n",
        "    'num_file_creations': [0],\n",
        "    'num_shells': [0],\n",
        "    'num_access_files': [0],\n",
        "    'num_outbound_cmds': [0],\n",
        "    'is_host_login': [0],  # Placeholder value or actual value for is_host_login\n",
        "    'is_guest_login': [0],  # Placeholder value or actual value for is_guest_login\n",
        "    'count': [87],\n",
        "    'srv_count': [87],\n",
        "    'serror_rate': [1.0],\n",
        "    'srv_serror_rate': [1.0],\n",
        "    'rerror_rate': [0.0],\n",
        "    'srv_rerror_rate': [0.0],\n",
        "    'same_srv_rate': [1.0],\n",
        "    'diff_srv_rate': [0.0],\n",
        "    'srv_diff_host_rate': [0.0],\n",
        "    'dst_host_count': [255],\n",
        "    'dst_host_srv_count': [255],\n",
        "    'dst_host_same_srv_rate': [1.0],\n",
        "    'dst_host_diff_srv_rate': [0.0],\n",
        "    'dst_host_same_src_port_rate': [0.0],\n",
        "    'dst_host_srv_diff_host_rate': [0.0],\n",
        "    'dst_host_serror_rate': [1.0],\n",
        "    'dst_host_srv_serror_rate': [1.0],\n",
        "    'dst_host_rerror_rate': [0.0],\n",
        "    'dst_host_srv_rerror_rate': [0.0],\n",
        "    'outcome': ['smurf.']\n",
        "}\n",
        "\n",
        "df = pd.DataFrame(database2)"
      ]
    },
    {
      "cell_type": "markdown",
      "metadata": {
        "id": "o6h3wyi4NaXp"
      },
      "source": [
        "### **Prepare the test example 1**"
      ]
    },
    {
      "cell_type": "code",
      "execution_count": 19,
      "metadata": {
        "id": "RE5idaUSNaXp"
      },
      "outputs": [],
      "source": [
        "df = pd.DataFrame(database2)\n",
        "# Drop the features that are not required\n",
        "df = df.drop(df.columns[[0, 1, 2, 3, 6, 11, 13, 14, 15, 20, 21]], axis=1)\n",
        "\n",
        "# Separate the features and labels\n",
        "X2 = df.iloc[:, :-1].values\n",
        "y2 = df.iloc[:, -1].values\n",
        "\n",
        "# Encode the categorical labels into integers\n",
        "label_encoder_y2 = LabelEncoder()\n",
        "y2 = label_encoder_y2.fit_transform(y2.ravel())\n",
        "\n",
        "# One-hot encoding the labels\n",
        "onehotencoder = OneHotEncoder(categories='auto')\n",
        "y2 = onehotencoder.fit_transform(y2.reshape(-1, 1)).toarray()\n",
        "\n",
        "# Feature scaling the input data\n",
        "scaler = StandardScaler()\n",
        "X2 = scaler.fit_transform(X2)\n",
        "\n",
        "# Reshape the modified example to match the original input shape\n",
        "X2_reshaped = X2.reshape((1, 30, 1))"
      ]
    },
    {
      "cell_type": "markdown",
      "metadata": {
        "id": "CFUJnkgCNaXq"
      },
      "source": [
        "### **Testing the example 1** "
      ]
    },
    {
      "cell_type": "code",
      "execution_count": 20,
      "metadata": {
        "id": "G_1r_N5xNaXq",
        "colab": {
          "base_uri": "https://localhost:8080/"
        },
        "outputId": "efafe0f5-d681-4573-d36b-19add8b7ace7"
      },
      "outputs": [
        {
          "output_type": "stream",
          "name": "stdout",
          "text": [
            "1/1 [==============================] - 0s 132ms/step\n",
            "Predictions: ['smurf.']\n",
            "Execution time: 0.19463396072387695 seconds\n"
          ]
        },
        {
          "output_type": "stream",
          "name": "stderr",
          "text": [
            "/usr/local/lib/python3.10/dist-packages/sklearn/preprocessing/_label.py:155: DataConversionWarning: A column-vector y was passed when a 1d array was expected. Please change the shape of y to (n_samples, ), for example using ravel().\n",
            "  y = column_or_1d(y, warn=True)\n",
            "/usr/local/lib/python3.10/dist-packages/sklearn/preprocessing/_label.py:155: DataConversionWarning: A column-vector y was passed when a 1d array was expected. Please change the shape of y to (n_samples, ), for example using ravel().\n",
            "  y = column_or_1d(y, warn=True)\n"
          ]
        }
      ],
      "source": [
        "import time\n",
        "start_time = time.time()\n",
        "# Make predictions on the modified example\n",
        "predictions = classifier.predict(X2_reshaped)\n",
        "\n",
        "# Decode the one-hot encoded predictions\n",
        "# Reshape the predictions array\n",
        "predictions_reshaped = predictions.argmax(axis=1).reshape(-1, 1)\n",
        "\n",
        "# Inverse transform the predictions\n",
        "decoded_predictions = label_encoder_y2.inverse_transform(onehotencoder.inverse_transform(predictions_reshaped))\n",
        "\n",
        "intrusion_types = ['neptune.', 'back.', 'phf.', 'ipsweep.', 'portsweep.', 'satan.', 'smurf.']\n",
        "true_labels = label_encoder_y2.inverse_transform(y2.argmax(axis=1).reshape(-1, 1))\n",
        "# Calculate TP, TN, FP, FN\n",
        "TP = np.sum(np.isin(decoded_predictions, intrusion_types) & np.isin(true_labels, intrusion_types))\n",
        "TN = np.sum(~np.isin(decoded_predictions, intrusion_types) & ~np.isin(true_labels, intrusion_types))\n",
        "FP = np.sum(np.isin(decoded_predictions, intrusion_types) & ~np.isin(true_labels, intrusion_types))\n",
        "FN = np.sum(~np.isin(decoded_predictions, intrusion_types) & np.isin(true_labels, intrusion_types))\n",
        "# end the time of execution\n",
        "end_time = time.time()\n",
        "execution_time1 = end_time - start_time\n",
        "# Print the predictions\n",
        "print(\"Predictions:\", decoded_predictions)\n",
        "# Print the time of execution\n",
        "print(\"Execution time:\", execution_time1, \"seconds\")\n"
      ]
    },
    {
      "cell_type": "markdown",
      "source": [
        "## **TEST 2**"
      ],
      "metadata": {
        "id": "ryPvuzY0xTEj"
      }
    },
    {
      "cell_type": "markdown",
      "source": [
        "### **Create the test example 2**"
      ],
      "metadata": {
        "id": "6AxQUJIIUBze"
      }
    },
    {
      "cell_type": "code",
      "source": [
        "import pandas as pd\n",
        "from sklearn.preprocessing import LabelEncoder, OneHotEncoder, StandardScaler\n",
        "\n",
        "# Define the attack example\n",
        "database3 = {\n",
        "    'duration': [0],\n",
        "    'protocol_type': ['icmp'],\n",
        "    'service': ['eco_i'],\n",
        "    'flag': ['OTH'],\n",
        "    'src_bytes': [1032],\n",
        "    'dst_bytes': [0],\n",
        "    'land': [0],\n",
        "    'wrong_fragment': [0],\n",
        "    'urgent': [0],\n",
        "    'hot': [0],\n",
        "    'num_failed_logins': [0],\n",
        "    'logged_in': [0],\n",
        "    'num_compromised': [0],\n",
        "    'root_shell': [0],\n",
        "    'su_attempted': [0],\n",
        "    'num_root': [0],\n",
        "    'num_file_creations': [0],\n",
        "    'num_shells': [0],\n",
        "    'num_access_files': [0],\n",
        "    'num_outbound_cmds': [0],\n",
        "    'is_host_login': [0],\n",
        "    'is_guest_login': [0],\n",
        "    'count': [234],\n",
        "    'srv_count': [78],\n",
        "    'serror_rate': [0.0],\n",
        "    'srv_serror_rate': [0.0],\n",
        "    'rerror_rate': [1.0],\n",
        "    'srv_rerror_rate': [1.0],\n",
        "    'same_srv_rate': [0.34],\n",
        "    'diff_srv_rate': [0.12],\n",
        "    'srv_diff_host_rate': [0.01],\n",
        "    'dst_host_count': [10],\n",
        "    'dst_host_srv_count': [2],\n",
        "    'dst_host_same_srv_rate': [0.2],\n",
        "    'dst_host_diff_srv_rate': [0.8],\n",
        "    'dst_host_same_src_port_rate': [0.0],\n",
        "    'dst_host_srv_diff_host_rate': [0.0],\n",
        "    'dst_host_serror_rate': [0.0],\n",
        "    'dst_host_srv_serror_rate': [0.0],\n",
        "    'dst_host_rerror_rate': [1.0],\n",
        "    'dst_host_srv_rerror_rate': [1.0],\n",
        "    'outcome': ['neptune.']\n",
        "}\n",
        "\n",
        "# Create a DataFrame from the example\n",
        "df3 = pd.DataFrame(database3)"
      ],
      "metadata": {
        "id": "cYAppTNCUq0H"
      },
      "execution_count": 21,
      "outputs": []
    },
    {
      "cell_type": "markdown",
      "metadata": {
        "id": "BvwAICRSUOF3"
      },
      "source": [
        "### **Prepare the test example 2**"
      ]
    },
    {
      "cell_type": "code",
      "source": [
        "# Drop the features that are not required\n",
        "df3 = df3.drop(df3.columns[[0, 1, 2, 3, 6, 11, 13, 14, 15, 20, 21]], axis=1)\n",
        "\n",
        "# Separate the features and labels\n",
        "X3 = df3.iloc[:, :-1].values\n",
        "y3 = df3.iloc[:, -1].values\n",
        "\n",
        "# Encode the categorical labels into integers\n",
        "label_encoder_y3 = LabelEncoder()\n",
        "y3 = label_encoder_y3.fit_transform(y3.ravel())\n",
        "\n",
        "# One-hot encoding the labels\n",
        "onehotencoder = OneHotEncoder(categories='auto')\n",
        "y3 = onehotencoder.fit_transform(y3.reshape(-1, 1)).toarray()\n",
        "\n",
        "# Feature scaling the input data\n",
        "scaler = StandardScaler()\n",
        "X3 = scaler.fit_transform(X3)\n",
        "\n",
        "# Reshape the modified example to match the original input shape\n",
        "X3_reshaped = X3.reshape((1, 30, 1))"
      ],
      "metadata": {
        "id": "zsw1x7udU5j-"
      },
      "execution_count": 22,
      "outputs": []
    },
    {
      "cell_type": "markdown",
      "metadata": {
        "id": "UVwt1rLLUcSA"
      },
      "source": [
        "### **Testing the example 2** "
      ]
    },
    {
      "cell_type": "code",
      "source": [
        "import time\n",
        "start_time = time.time()\n",
        "\n",
        "# Make predictions on the modified example\n",
        "predictions3 = classifier.predict(X3_reshaped)\n",
        "\n",
        "# Decode the one-hot encoded predictions\n",
        "# Reshape the predictions array\n",
        "predictions_reshaped3 = predictions3.argmax(axis=1).reshape(-1, 1)\n",
        "\n",
        "# Inverse transform the predictions\n",
        "decoded_predictions3 = label_encoder_y3.inverse_transform(onehotencoder.inverse_transform(predictions_reshaped3))\n",
        "# Calculate TP, TN, FP, FN\n",
        "intrusion_types = ['neptune.', 'back.', 'phf.', 'ipsweep.', 'portsweep.', 'satan.', 'smurf.']\n",
        "true_labels = label_encoder_y3.inverse_transform(y3.argmax(axis=1).reshape(-1, 1))\n",
        "\n",
        "TP = np.sum(np.isin(decoded_predictions3, intrusion_types) & np.isin(true_labels, intrusion_types))\n",
        "TN = np.sum(~np.isin(decoded_predictions3, intrusion_types) & ~np.isin(true_labels, intrusion_types))\n",
        "FP = np.sum(np.isin(decoded_predictions3, intrusion_types) & ~np.isin(true_labels, intrusion_types))\n",
        "FN = np.sum(~np.isin(decoded_predictions3, intrusion_types) & np.isin(true_labels, intrusion_types))\n",
        "\n",
        "# Print the results\n",
        "print(\"True Positive (TP):\", TP)\n",
        "print(\"True Negative (TN):\", TN)\n",
        "print(\"False Positive (FP):\", FP)\n",
        "print(\"False Negative (FN):\", FN)\n",
        "# End the time of execution\n",
        "end_time = time.time()\n",
        "execution_time3 = end_time - start_time\n",
        "\n",
        "# Print the predictions\n",
        "print(\"Predictions:\", decoded_predictions3)\n",
        "\n",
        "# Print the time of execution\n",
        "print(\"Execution time:\", execution_time2, \"seconds\")"
      ],
      "metadata": {
        "colab": {
          "base_uri": "https://localhost:8080/"
        },
        "id": "hjLdCvwjU7E3",
        "outputId": "bff1b02e-1988-4729-c5a2-bc0f3919432e"
      },
      "execution_count": 23,
      "outputs": [
        {
          "output_type": "stream",
          "name": "stdout",
          "text": [
            "1/1 [==============================] - 0s 21ms/step\n",
            "True Positive (TP): 1\n",
            "True Negative (TN): 0\n",
            "False Positive (FP): 0\n",
            "False Negative (FN): 0\n",
            "Predictions: ['neptune.']\n",
            "Execution time: 142.88423132896423 seconds\n"
          ]
        },
        {
          "output_type": "stream",
          "name": "stderr",
          "text": [
            "/usr/local/lib/python3.10/dist-packages/sklearn/preprocessing/_label.py:155: DataConversionWarning: A column-vector y was passed when a 1d array was expected. Please change the shape of y to (n_samples, ), for example using ravel().\n",
            "  y = column_or_1d(y, warn=True)\n",
            "/usr/local/lib/python3.10/dist-packages/sklearn/preprocessing/_label.py:155: DataConversionWarning: A column-vector y was passed when a 1d array was expected. Please change the shape of y to (n_samples, ), for example using ravel().\n",
            "  y = column_or_1d(y, warn=True)\n"
          ]
        }
      ]
    },
    {
      "cell_type": "markdown",
      "source": [],
      "metadata": {
        "id": "QQUfUf1j8GvW"
      }
    },
    {
      "cell_type": "markdown",
      "source": [
        "## **TEST 3**"
      ],
      "metadata": {
        "id": "-zbccauK41Vx"
      }
    },
    {
      "cell_type": "markdown",
      "source": [
        "### **Create the test example 3**"
      ],
      "metadata": {
        "id": "L0GJ459RUFke"
      }
    },
    {
      "cell_type": "code",
      "source": [
        "import pandas as pd\n",
        "from sklearn.preprocessing import LabelEncoder, OneHotEncoder, StandardScaler\n",
        "\n",
        "# Define the normal example\n",
        "database4 = {\n",
        "    'duration': [0],\n",
        "    'protocol_type': ['tcp'],\n",
        "    'service': ['http'],\n",
        "    'flag': ['SF'],\n",
        "    'src_bytes': [500],\n",
        "    'dst_bytes': [1500],\n",
        "    'land': [0],\n",
        "    'wrong_fragment': [0],\n",
        "    'urgent': [0],\n",
        "    'hot': [0],\n",
        "    'num_failed_logins': [0],\n",
        "    'logged_in': [1],\n",
        "    'num_compromised': [0],\n",
        "    'root_shell': [0],\n",
        "    'su_attempted': [0],\n",
        "    'num_root': [0],\n",
        "    'num_file_creations': [0],\n",
        "    'num_shells': [0],\n",
        "    'num_access_files': [0],\n",
        "    'num_outbound_cmds': [0],\n",
        "    'is_host_login': [0],\n",
        "    'is_guest_login': [0],\n",
        "    'count': [25],\n",
        "    'srv_count': [25],\n",
        "    'serror_rate': [0.0],\n",
        "    'srv_serror_rate': [0.0],\n",
        "    'rerror_rate': [0.0],\n",
        "    'srv_rerror_rate': [0.0],\n",
        "    'same_srv_rate': [1.0],\n",
        "    'diff_srv_rate': [0.0],\n",
        "    'srv_diff_host_rate': [0.0],\n",
        "    'dst_host_count': [255],\n",
        "    'dst_host_srv_count': [255],\n",
        "    'dst_host_same_srv_rate': [1.0],\n",
        "    'dst_host_diff_srv_rate': [0.0],\n",
        "    'dst_host_same_src_port_rate': [0.0],\n",
        "    'dst_host_srv_diff_host_rate': [0.0],\n",
        "    'dst_host_serror_rate': [0.0],\n",
        "    'dst_host_srv_serror_rate': [0.0],\n",
        "    'dst_host_rerror_rate': [0.0],\n",
        "    'dst_host_srv_rerror_rate': [0.0],\n",
        "    'outcome': ['normal.']\n",
        "}\n",
        "\n",
        "# Create a DataFrame from the example\n",
        "df4 = pd.DataFrame(database4)\n"
      ],
      "metadata": {
        "id": "95K1fzCyWvfm"
      },
      "execution_count": 24,
      "outputs": []
    },
    {
      "cell_type": "markdown",
      "metadata": {
        "id": "Gx72h4xOUT_n"
      },
      "source": [
        "### **Prepare the test example 3**"
      ]
    },
    {
      "cell_type": "code",
      "source": [
        "# Drop the features that are not required\n",
        "df4 = df4.drop(df4.columns[[0, 1, 2, 3, 6, 11, 13, 14, 15, 20, 21]], axis=1)\n",
        "\n",
        "# Separate the features and labels\n",
        "X4 = df4.iloc[:, :-1].values\n",
        "y4 = df4.iloc[:, -1].values\n",
        "\n",
        "# Encode the categorical labels into integers\n",
        "label_encoder_y4 = LabelEncoder()\n",
        "y4 = label_encoder_y4.fit_transform(y4.ravel())\n",
        "\n",
        "# One-hot encoding the labels\n",
        "onehotencoder = OneHotEncoder(categories='auto')\n",
        "y4 = onehotencoder.fit_transform(y4.reshape(-1, 1)).toarray()\n",
        "\n",
        "# Feature scaling the input data\n",
        "scaler = StandardScaler()\n",
        "X4 = scaler.fit_transform(X4)\n",
        "\n",
        "# Reshape the modified example to match the original input shape\n",
        "X4_reshaped = X4.reshape((1, 30, 1))\n"
      ],
      "metadata": {
        "id": "lI47KICfW1nW"
      },
      "execution_count": 25,
      "outputs": []
    },
    {
      "cell_type": "markdown",
      "metadata": {
        "id": "kgyQtbR2UgE4"
      },
      "source": [
        "### **Testing the example 3** "
      ]
    },
    {
      "cell_type": "code",
      "source": [
        "import time\n",
        "start_time = time.time()\n",
        "\n",
        "# Make predictions on the modified example\n",
        "predictions4 = classifier.predict(X4_reshaped)\n",
        "\n",
        "# Decode the one-hot encoded predictions\n",
        "predictions_reshaped4 = predictions4.argmax(axis=1).reshape(-1, 1)\n",
        "\n",
        "# Inverse transform the predictions\n",
        "decoded_predictions4 = label_encoder_y4.inverse_transform(onehotencoder.inverse_transform(predictions_reshaped4))\n",
        "\n",
        "# Calculate TP, TN, FP, FN\n",
        "intrusion_types = ['neptune.', 'back.', 'phf.', 'ipsweep.', 'portsweep.', 'satan.', 'smurf.']\n",
        "true_labels = label_encoder_y4.inverse_transform(y4.argmax(axis=1).reshape(-1, 1))\n",
        "\n",
        "TP = np.sum(np.isin(decoded_predictions4, intrusion_types) & np.isin(true_labels, intrusion_types))\n",
        "TN = np.sum(~np.isin(decoded_predictions4, intrusion_types) & ~np.isin(true_labels, intrusion_types))\n",
        "FP = np.sum(np.isin(decoded_predictions4, intrusion_types) & ~np.isin(true_labels, intrusion_types))\n",
        "FN = np.sum(~np.isin(decoded_predictions4, intrusion_types) & np.isin(true_labels, intrusion_types))\n",
        "\n",
        "# Print the results\n",
        "print(\"True Positive (TP):\", TP)\n",
        "print(\"True Negative (TN):\", TN)\n",
        "print(\"False Positive (FP):\", FP)\n",
        "print(\"False Negative (FN):\", FN)\n",
        "# End the time of execution\n",
        "end_time = time.time()\n",
        "execution_time3 = end_time - start_time\n",
        "\n",
        "# Print the predictions\n",
        "print(\"Predictions:\", decoded_predictions4)\n",
        "\n",
        "# Print the time of execution\n",
        "print(\"Execution time:\", execution_time3, \"seconds\")"
      ],
      "metadata": {
        "colab": {
          "base_uri": "https://localhost:8080/"
        },
        "id": "Hz9M1QZoW2q-",
        "outputId": "6a89f271-abcc-43a4-a27e-c1d0c92128eb"
      },
      "execution_count": 26,
      "outputs": [
        {
          "output_type": "stream",
          "name": "stdout",
          "text": [
            "1/1 [==============================] - 0s 22ms/step\n",
            "True Positive (TP): 0\n",
            "True Negative (TN): 1\n",
            "False Positive (FP): 0\n",
            "False Negative (FN): 0\n",
            "Predictions: ['normal.']\n",
            "Execution time: 0.07784557342529297 seconds\n"
          ]
        },
        {
          "output_type": "stream",
          "name": "stderr",
          "text": [
            "/usr/local/lib/python3.10/dist-packages/sklearn/preprocessing/_label.py:155: DataConversionWarning: A column-vector y was passed when a 1d array was expected. Please change the shape of y to (n_samples, ), for example using ravel().\n",
            "  y = column_or_1d(y, warn=True)\n",
            "/usr/local/lib/python3.10/dist-packages/sklearn/preprocessing/_label.py:155: DataConversionWarning: A column-vector y was passed when a 1d array was expected. Please change the shape of y to (n_samples, ), for example using ravel().\n",
            "  y = column_or_1d(y, warn=True)\n"
          ]
        }
      ]
    },
    {
      "cell_type": "code",
      "source": [],
      "metadata": {
        "id": "mVExjV2ACly7"
      },
      "execution_count": 27,
      "outputs": []
    },
    {
      "cell_type": "code",
      "source": [],
      "metadata": {
        "id": "EQIhFxtMcxyc"
      },
      "execution_count": 27,
      "outputs": []
    },
    {
      "cell_type": "code",
      "source": [],
      "metadata": {
        "id": "mpeLScfLCll4"
      },
      "execution_count": 27,
      "outputs": []
    },
    {
      "cell_type": "code",
      "source": [],
      "metadata": {
        "id": "OYXVjsq0kkFO"
      },
      "execution_count": 27,
      "outputs": []
    },
    {
      "cell_type": "code",
      "source": [],
      "metadata": {
        "id": "Wew64mCLkkBm"
      },
      "execution_count": 27,
      "outputs": []
    },
    {
      "cell_type": "code",
      "source": [],
      "metadata": {
        "id": "MyNy6v-9kj9e"
      },
      "execution_count": 27,
      "outputs": []
    },
    {
      "cell_type": "code",
      "source": [],
      "metadata": {
        "id": "PUFTFdTKCliw"
      },
      "execution_count": 27,
      "outputs": []
    },
    {
      "cell_type": "code",
      "source": [],
      "metadata": {
        "id": "KA-zP7fHClfh"
      },
      "execution_count": null,
      "outputs": []
    },
    {
      "cell_type": "code",
      "source": [],
      "metadata": {
        "id": "GKWoWvIKClcg"
      },
      "execution_count": null,
      "outputs": []
    },
    {
      "cell_type": "code",
      "source": [],
      "metadata": {
        "id": "vFrOEZOdClYw"
      },
      "execution_count": null,
      "outputs": []
    },
    {
      "cell_type": "code",
      "source": [],
      "metadata": {
        "id": "6CknCTqvClV4"
      },
      "execution_count": null,
      "outputs": []
    },
    {
      "cell_type": "code",
      "source": [],
      "metadata": {
        "id": "I8NqqAxKClSc"
      },
      "execution_count": null,
      "outputs": []
    },
    {
      "cell_type": "code",
      "source": [],
      "metadata": {
        "id": "nZROBCe9ClO5"
      },
      "execution_count": null,
      "outputs": []
    },
    {
      "cell_type": "code",
      "source": [
        "# Calculate TP, TN, FP, FN\n",
        "intrusion_types = ['normal.', 'neptune.', 'back.', 'phf.', 'ipsweep.', 'portsweep.', 'satan.', 'smurf.']\n",
        "true_labels = label_encoder_y4.inverse_transform(y2.argmax(axis=1).reshape(-1, 1))\n",
        "\n",
        "TP = np.sum(np.isin(decoded_predictions4, intrusion_types) & np.isin(true_labels, intrusion_types))\n",
        "TN = np.sum(~np.isin(decoded_predictions4, intrusion_types) & ~np.isin(true_labels, intrusion_types))\n",
        "FP = np.sum(np.isin(decoded_predictions4, intrusion_types) & ~np.isin(true_labels, intrusion_types))\n",
        "FN = np.sum(~np.isin(decoded_predictions4, intrusion_types) & np.isin(true_labels, intrusion_types))\n",
        "# Print the results\n",
        "print(\"True Positive (TP):\", TP)\n",
        "print(\"True Negative (TN):\", TN)\n",
        "print(\"False Positive (FP):\", FP)\n",
        "print(\"False Negative (FN):\", FN)\n",
        "\n",
        "# Print the predictions\n",
        "print(\"Predictions:\", decoded_predictions4)\n"
      ],
      "metadata": {
        "colab": {
          "base_uri": "https://localhost:8080/"
        },
        "id": "w_TCVlRu-94j",
        "outputId": "c83833dc-2fc0-42e4-f6c0-bd47e2cdf6c9"
      },
      "execution_count": 27,
      "outputs": [
        {
          "output_type": "stream",
          "name": "stdout",
          "text": [
            "True Positive (TP): 1\n",
            "True Negative (TN): 0\n",
            "False Positive (FP): 0\n",
            "False Negative (FN): 0\n",
            "Predictions: ['normal.']\n"
          ]
        },
        {
          "output_type": "stream",
          "name": "stderr",
          "text": [
            "/usr/local/lib/python3.10/dist-packages/sklearn/preprocessing/_label.py:155: DataConversionWarning: A column-vector y was passed when a 1d array was expected. Please change the shape of y to (n_samples, ), for example using ravel().\n",
            "  y = column_or_1d(y, warn=True)\n"
          ]
        }
      ]
    },
    {
      "cell_type": "code",
      "source": [
        "# example 2\n",
        "import pandas as pd\n",
        "from sklearn.preprocessing import LabelEncoder, OneHotEncoder, StandardScaler\n",
        "\n",
        "# Define the attack example\n",
        "database3 = {\n",
        "    'duration': [0],\n",
        "    'protocol_type': ['icmp'],\n",
        "    'service': ['eco_i'],\n",
        "    'flag': ['OTH'],\n",
        "    'src_bytes': [1032],\n",
        "    'dst_bytes': [0],\n",
        "    'land': [0],\n",
        "    'wrong_fragment': [0],\n",
        "    'urgent': [0],\n",
        "    'hot': [0],\n",
        "    'num_failed_logins': [0],\n",
        "    'logged_in': [0],\n",
        "    'num_compromised': [0],\n",
        "    'root_shell': [0],\n",
        "    'su_attempted': [0],\n",
        "    'num_root': [0],\n",
        "    'num_file_creations': [0],\n",
        "    'num_shells': [0],\n",
        "    'num_access_files': [0],\n",
        "    'num_outbound_cmds': [0],\n",
        "    'is_host_login': [0],\n",
        "    'is_guest_login': [0],\n",
        "    'count': [234],\n",
        "    'srv_count': [78],\n",
        "    'serror_rate': [0.0],\n",
        "    'srv_serror_rate': [0.0],\n",
        "    'rerror_rate': [1.0],\n",
        "    'srv_rerror_rate': [1.0],\n",
        "    'same_srv_rate': [0.34],\n",
        "    'diff_srv_rate': [0.12],\n",
        "    'srv_diff_host_rate': [0.01],\n",
        "    'dst_host_count': [10],\n",
        "    'dst_host_srv_count': [2],\n",
        "    'dst_host_same_srv_rate': [0.2],\n",
        "    'dst_host_diff_srv_rate': [0.8],\n",
        "    'dst_host_same_src_port_rate': [0.0],\n",
        "    'dst_host_srv_diff_host_rate': [0.0],\n",
        "    'dst_host_serror_rate': [0.0],\n",
        "    'dst_host_srv_serror_rate': [0.0],\n",
        "    'dst_host_rerror_rate': [1.0],\n",
        "    'dst_host_srv_rerror_rate': [1.0],\n",
        "    'outcome': ['neptune.']\n",
        "}\n",
        "\n",
        "# Create a DataFrame from the example\n",
        "df3 = pd.DataFrame(database3)\n",
        "\n",
        "# Drop the features that are not required\n",
        "df3 = df3.drop(df3.columns[[0, 1, 2, 3, 6, 11, 13, 14, 15, 20, 21]], axis=1)\n",
        "\n",
        "# Separate the features and labels\n",
        "X3 = df3.iloc[:, :-1].values\n",
        "y3 = df3.iloc[:, -1].values\n",
        "\n",
        "# Encode the categorical labels into integers\n",
        "label_encoder_y3 = LabelEncoder()\n",
        "y3 = label_encoder_y3.fit_transform(y3.ravel())\n",
        "\n",
        "# One-hot encoding the labels\n",
        "onehotencoder = OneHotEncoder(categories='auto')\n",
        "y3 = onehotencoder.fit_transform(y3.reshape(-1, 1)).toarray()\n",
        "\n",
        "# Feature scaling the input data\n",
        "scaler = StandardScaler()\n",
        "X3 = scaler.fit_transform(X3)\n",
        "\n",
        "# Reshape the modified example to match the original input shape\n",
        "X3_reshaped = X3.reshape((1, 30, 1))\n",
        "\n",
        "import time\n",
        "start_time = time.time()\n",
        "\n",
        "# Make predictions on the modified example\n",
        "predictions3 = classifier.predict(X3_reshaped)\n",
        "\n",
        "# Decode the one-hot encoded predictions\n",
        "# Reshape the predictions array\n",
        "predictions_reshaped3 = predictions3.argmax(axis=1).reshape(-1, 1)\n",
        "\n",
        "# Inverse transform the predictions\n",
        "decoded_predictions3 = label_encoder_y3.inverse_transform(onehotencoder.inverse_transform(predictions_reshaped3))\n",
        "\n",
        "# End the time of execution\n",
        "end_time = time.time()\n",
        "execution_time2 = end_time - start_time\n",
        "\n",
        "# Print the predictions\n",
        "print(\"Predictions:\", decoded_predictions3)\n",
        "\n",
        "# Print the time of execution\n",
        "print(\"Execution time:\", execution_time2, \"seconds\")\n"
      ],
      "metadata": {
        "colab": {
          "base_uri": "https://localhost:8080/"
        },
        "id": "CNTZj4LyzDUO",
        "outputId": "388e87b0-9fc0-4e9b-d7cc-94beb5902030"
      },
      "execution_count": null,
      "outputs": [
        {
          "output_type": "stream",
          "name": "stdout",
          "text": [
            "1/1 [==============================] - 0s 79ms/step\n",
            "Predictions: ['neptune.']\n",
            "Execution time: 0.20402908325195312 seconds\n"
          ]
        },
        {
          "output_type": "stream",
          "name": "stderr",
          "text": [
            "/usr/local/lib/python3.10/dist-packages/sklearn/preprocessing/_label.py:155: DataConversionWarning: A column-vector y was passed when a 1d array was expected. Please change the shape of y to (n_samples, ), for example using ravel().\n",
            "  y = column_or_1d(y, warn=True)\n"
          ]
        }
      ]
    },
    {
      "cell_type": "code",
      "source": [],
      "metadata": {
        "id": "XnR4bWKQVFjW"
      },
      "execution_count": null,
      "outputs": []
    },
    {
      "cell_type": "code",
      "source": [
        "# example 3\n",
        "import pandas as pd\n",
        "from sklearn.preprocessing import LabelEncoder, OneHotEncoder, StandardScaler\n",
        "\n",
        "# Define the normal example\n",
        "database4 = {\n",
        "    'duration': [0],\n",
        "    'protocol_type': ['tcp'],\n",
        "    'service': ['http'],\n",
        "    'flag': ['SF'],\n",
        "    'src_bytes': [500],\n",
        "    'dst_bytes': [1500],\n",
        "    'land': [0],\n",
        "    'wrong_fragment': [0],\n",
        "    'urgent': [0],\n",
        "    'hot': [0],\n",
        "    'num_failed_logins': [0],\n",
        "    'logged_in': [1],\n",
        "    'num_compromised': [0],\n",
        "    'root_shell': [0],\n",
        "    'su_attempted': [0],\n",
        "    'num_root': [0],\n",
        "    'num_file_creations': [0],\n",
        "    'num_shells': [0],\n",
        "    'num_access_files': [0],\n",
        "    'num_outbound_cmds': [0],\n",
        "    'is_host_login': [0],\n",
        "    'is_guest_login': [0],\n",
        "    'count': [25],\n",
        "    'srv_count': [25],\n",
        "    'serror_rate': [0.0],\n",
        "    'srv_serror_rate': [0.0],\n",
        "    'rerror_rate': [0.0],\n",
        "    'srv_rerror_rate': [0.0],\n",
        "    'same_srv_rate': [1.0],\n",
        "    'diff_srv_rate': [0.0],\n",
        "    'srv_diff_host_rate': [0.0],\n",
        "    'dst_host_count': [255],\n",
        "    'dst_host_srv_count': [255],\n",
        "    'dst_host_same_srv_rate': [1.0],\n",
        "    'dst_host_diff_srv_rate': [0.0],\n",
        "    'dst_host_same_src_port_rate': [0.0],\n",
        "    'dst_host_srv_diff_host_rate': [0.0],\n",
        "    'dst_host_serror_rate': [0.0],\n",
        "    'dst_host_srv_serror_rate': [0.0],\n",
        "    'dst_host_rerror_rate': [0.0],\n",
        "    'dst_host_srv_rerror_rate': [0.0],\n",
        "    'outcome': ['normal.']\n",
        "}\n",
        "\n",
        "# Create a DataFrame from the example\n",
        "df4 = pd.DataFrame(database4)\n",
        "\n",
        "# Drop the features that are not required\n",
        "df4 = df4.drop(df4.columns[[0, 1, 2, 3, 6, 11, 13, 14, 15, 20, 21]], axis=1)\n",
        "\n",
        "# Separate the features and labels\n",
        "X4 = df4.iloc[:, :-1].values\n",
        "y4 = df4.iloc[:, -1].values\n",
        "\n",
        "# Encode the categorical labels into integers\n",
        "label_encoder_y4 = LabelEncoder()\n",
        "y4 = label_encoder_y4.fit_transform(y4.ravel())\n",
        "\n",
        "# One-hot encoding the labels\n",
        "onehotencoder = OneHotEncoder(categories='auto')\n",
        "y4 = onehotencoder.fit_transform(y4.reshape(-1, 1)).toarray()\n",
        "\n",
        "# Feature scaling the input data\n",
        "scaler = StandardScaler()\n",
        "X4 = scaler.fit_transform(X4)\n",
        "\n",
        "# Reshape the modified example to match the original input shape\n",
        "X4_reshaped = X4.reshape((1, 30, 1))\n",
        "\n",
        "import time\n",
        "start_time = time.time()\n",
        "\n",
        "# Make predictions on the modified example\n",
        "predictions4 = classifier.predict(X4_reshaped)\n",
        "\n",
        "# Decode the one-hot encoded predictions\n",
        "# Reshape the predictions array\n",
        "predictions_reshaped4 = predictions4.argmax(axis=1).reshape(-1, 1)\n",
        "\n",
        "# Inverse transform the predictions\n",
        "decoded_predictions4 = label_encoder_y4.inverse_transform(onehotencoder.inverse_transform(predictions_reshaped4))\n",
        "\n",
        "# End the time of execution\n",
        "end_time = time.time()\n",
        "execution_time3 = end_time - start_time\n",
        "\n",
        "# Print the predictions\n",
        "print(\"Predictions:\", decoded_predictions4)\n",
        "\n",
        "# Print the time of execution\n",
        "print(\"Execution time:\", execution_time3, \"seconds\")\n"
      ],
      "metadata": {
        "colab": {
          "base_uri": "https://localhost:8080/"
        },
        "id": "DNzNz0T0zrPv",
        "outputId": "214fd713-26fb-4242-f5d4-907ddc3e6fa3"
      },
      "execution_count": null,
      "outputs": [
        {
          "output_type": "stream",
          "name": "stdout",
          "text": [
            "1/1 [==============================] - 0s 21ms/step\n",
            "Predictions: ['normal.']\n",
            "Execution time: 0.06469178199768066 seconds\n"
          ]
        },
        {
          "output_type": "stream",
          "name": "stderr",
          "text": [
            "/usr/local/lib/python3.10/dist-packages/sklearn/preprocessing/_label.py:155: DataConversionWarning: A column-vector y was passed when a 1d array was expected. Please change the shape of y to (n_samples, ), for example using ravel().\n",
            "  y = column_or_1d(y, warn=True)\n"
          ]
        }
      ]
    },
    {
      "cell_type": "code",
      "execution_count": null,
      "metadata": {
        "id": "7UpbRE_CNaXn",
        "colab": {
          "base_uri": "https://localhost:8080/",
          "height": 1000
        },
        "outputId": "0156cfe7-b1a7-486d-efb2-3fafecc6752a"
      },
      "outputs": [
        {
          "output_type": "stream",
          "name": "stdout",
          "text": [
            "Model 1 - Test loss: 0.0010031319689005613\n",
            "Model 1 - Test accuracy: 0.9998962879180908\n",
            "Model 2 - Test loss: 0.0007850911933928728\n",
            "Model 2 - Test accuracy: 0.9972521662712097\n",
            "Model 3 - Test loss: 0.027131814509630203\n",
            "Model 3 - Test accuracy: 0.9636561870574951\n"
          ]
        },
        {
          "output_type": "display_data",
          "data": {
            "text/plain": [
              "<Figure size 640x480 with 1 Axes>"
            ],
            "image/png": "[encoded data removed]"
          },
          "metadata": {}
        },
        {
          "output_type": "display_data",
          "data": {
            "text/plain": [
              "<Figure size 640x480 with 1 Axes>"
            ],
            "image/png": "[encoded data removed]"
          },
          "metadata": {}
        },
        {
          "output_type": "display_data",
          "data": {
            "text/plain": [
              "<Figure size 640x480 with 1 Axes>"
            ],
            "image/png": "[encoded data removed]"
          },
          "metadata": {}
        },
        {
          "output_type": "display_data",
          "data": {
            "text/plain": [
              "<Figure size 640x480 with 1 Axes>"
            ],
            "image/png": "[encoded data removed]"
          },
          "metadata": {}
        }
      ],
      "source": [
        "# Plot the accuracy and loss curves\n",
        "import matplotlib.pyplot as plt\n",
        "\n",
        "# Evaluate the models\n",
        "score1 = classifier.evaluate(X_test.reshape((X_test.shape[0], X_test.shape[1], 1)), y_test, verbose=0)\n",
        "print('Model 1 - Test loss:', score1[0])\n",
        "print('Model 1 - Test accuracy:', score1[1])\n",
        "\n",
        "score2 = classifier2.evaluate(X_test.reshape((X_test.shape[0], X_test.shape[1], 1)), y_test, verbose=0)\n",
        "print('Model 2 - Test loss:', score2[0])\n",
        "print('Model 2 - Test accuracy:', score2[1])\n",
        "\n",
        "score3 = classifier3.evaluate(X_test.reshape((X_test.shape[0], X_test.shape[1], 1)), y_test, verbose=0)\n",
        "print('Model 3 - Test loss:', score3[0])\n",
        "print('Model 3 - Test accuracy:', score3[1])\n",
        "\n",
        "# Plot accuracy\n",
        "plt.plot(history.history['accuracy'])\n",
        "plt.plot(history2.history['accuracy'])\n",
        "plt.plot(history3.history['accuracy'])\n",
        "plt.plot(history.history['val_accuracy'])\n",
        "plt.plot(history2.history['val_accuracy'])\n",
        "plt.plot(history3.history['val_accuracy'])\n",
        "plt.title('Model Accuracy')\n",
        "plt.ylabel('Accuracy')\n",
        "plt.xlabel('Epoch')\n",
        "plt.legend(['Model 1 Train', 'Model 2 Train', 'Model 3 Train', 'Model 1 Test', 'Model 2 Test', 'Model 3 Test'], loc='lower right')\n",
        "plt.show()\n",
        "\n",
        "# Plot loss\n",
        "plt.plot(history.history['loss'])\n",
        "plt.plot(history2.history['loss'])\n",
        "plt.plot(history3.history['loss'])\n",
        "plt.plot(history.history['val_loss'])\n",
        "plt.plot(history2.history['val_loss'])\n",
        "plt.plot(history3.history['val_loss'])\n",
        "plt.title('Model Loss')\n",
        "plt.ylabel('Loss')\n",
        "plt.xlabel('Epoch')\n",
        "plt.legend(['Model 1 Train', 'Model 2 Train', 'Model 3 Train', 'Model 1 Test', 'Model 2 Test', 'Model 3 Test'], loc='upper right')\n",
        "plt.show()\n",
        "\n",
        "# Plot the execution times\n",
        "execution_times = [execution_time1, execution_time2, execution_time3]\n",
        "labels = ['CNN1', 'CNN2', 'CNN3']\n",
        "colors = ['blue', 'blue', 'blue']  # Set the color for each bar\n",
        "\n",
        "# Find the index of the model with the lowest execution time\n",
        "min_execution_times_index = execution_times.index(min(execution_times))\n",
        "colors[min_execution_times_index] = 'green'  # Set a different color for the bar with the execution time\n",
        "\n",
        "plt.bar(labels, execution_times, color=colors)\n",
        "plt.xlabel('Train CNN Models')\n",
        "plt.ylabel('Execution Time (seconds)')\n",
        "plt.title('Execution Times of Multiple Trains')\n",
        "plt.show()\n",
        "\n",
        "\n",
        "\n",
        "\n",
        "# Plot the accuracy\n",
        "accuracy = [score1[1], score2[1], score3[1]]\n",
        "labels = ['CNN1', 'CNN2', 'CNN3']\n",
        "colors = ['blue', 'blue', 'blue']  # Set the color for each bar\n",
        "# Find the index of the model with the highest accuracy\n",
        "max_accuracy_index = accuracy.index(max(accuracy))\n",
        "colors[max_accuracy_index] = 'green'  # Set a different color for the bar with the highest accuracy\n",
        "plt.bar(labels, accuracy, color=colors)\n",
        "plt.xlabel('Train CNN Models')\n",
        "plt.ylabel('Accuracy (from 0 to 1)')\n",
        "plt.title('Accuracy of Multiple Models')\n",
        "plt.show()"
      ]
    }
  ],
  "metadata": {
    "language_info": {
      "name": "python"
    },
    "orig_nbformat": 4,
    "colab": {
      "provenance": [],
      "include_colab_link": true
    },
    "kernelspec": {
      "name": "python3",
      "display_name": "Python 3"
    },
    "gpuClass": "standard"
  },
  "nbformat": 4,
  "nbformat_minor": 0
}